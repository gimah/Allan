{
  "cells": [
    {
      "cell_type": "markdown",
      "metadata": {
        "id": "view-in-github",
        "colab_type": "text"
      },
      "source": [
        "<a href=\"https://colab.research.google.com/github/gimah/Allan/blob/master/Share_to_Audience_Case_Study_Homeless.ipynb\" target=\"_parent\"><img src=\"https://colab.research.google.com/assets/colab-badge.svg\" alt=\"Open In Colab\"/></a>"
      ]
    },
    {
      "cell_type": "markdown",
      "id": "86b6b4b5",
      "metadata": {
        "id": "86b6b4b5"
      },
      "source": [
        "# Case Study - Homeless"
      ]
    },
    {
      "cell_type": "code",
      "source": [
        "pip install altair"
      ],
      "metadata": {
        "colab": {
          "base_uri": "https://localhost:8080/"
        },
        "id": "KIiHcON5mUJ1",
        "outputId": "40507ed9-98b0-4498-d985-cf9053a4b1e6"
      },
      "id": "KIiHcON5mUJ1",
      "execution_count": null,
      "outputs": [
        {
          "output_type": "stream",
          "name": "stdout",
          "text": [
            "Requirement already satisfied: altair in /usr/local/lib/python3.10/dist-packages (4.2.2)\n",
            "Requirement already satisfied: entrypoints in /usr/local/lib/python3.10/dist-packages (from altair) (0.4)\n",
            "Requirement already satisfied: jinja2 in /usr/local/lib/python3.10/dist-packages (from altair) (3.1.2)\n",
            "Requirement already satisfied: jsonschema>=3.0 in /usr/local/lib/python3.10/dist-packages (from altair) (4.3.3)\n",
            "Requirement already satisfied: numpy in /usr/local/lib/python3.10/dist-packages (from altair) (1.22.4)\n",
            "Requirement already satisfied: pandas>=0.18 in /usr/local/lib/python3.10/dist-packages (from altair) (1.5.3)\n",
            "Requirement already satisfied: toolz in /usr/local/lib/python3.10/dist-packages (from altair) (0.12.0)\n",
            "Requirement already satisfied: attrs>=17.4.0 in /usr/local/lib/python3.10/dist-packages (from jsonschema>=3.0->altair) (23.1.0)\n",
            "Requirement already satisfied: pyrsistent!=0.17.0,!=0.17.1,!=0.17.2,>=0.14.0 in /usr/local/lib/python3.10/dist-packages (from jsonschema>=3.0->altair) (0.19.3)\n",
            "Requirement already satisfied: python-dateutil>=2.8.1 in /usr/local/lib/python3.10/dist-packages (from pandas>=0.18->altair) (2.8.2)\n",
            "Requirement already satisfied: pytz>=2020.1 in /usr/local/lib/python3.10/dist-packages (from pandas>=0.18->altair) (2022.7.1)\n",
            "Requirement already satisfied: MarkupSafe>=2.0 in /usr/local/lib/python3.10/dist-packages (from jinja2->altair) (2.1.3)\n",
            "Requirement already satisfied: six>=1.5 in /usr/local/lib/python3.10/dist-packages (from python-dateutil>=2.8.1->pandas>=0.18->altair) (1.16.0)\n"
          ]
        }
      ]
    },
    {
      "cell_type": "code",
      "source": [
        "pip install config"
      ],
      "metadata": {
        "id": "znK4IxSArKH0",
        "outputId": "9f501280-4a43-4753-a11e-80e52b7323c0",
        "colab": {
          "base_uri": "https://localhost:8080/"
        }
      },
      "id": "znK4IxSArKH0",
      "execution_count": null,
      "outputs": [
        {
          "output_type": "stream",
          "name": "stdout",
          "text": [
            "Collecting config\n",
            "  Downloading config-0.5.1-py2.py3-none-any.whl (20 kB)\n",
            "Installing collected packages: config\n",
            "Successfully installed config-0.5.1\n"
          ]
        }
      ]
    },
    {
      "cell_type": "code",
      "execution_count": null,
      "id": "11bc2226",
      "metadata": {
        "colab": {
          "base_uri": "https://localhost:8080/",
          "height": 373
        },
        "id": "11bc2226",
        "outputId": "9960cb52-9a2a-4f3c-d29c-0f412e867732"
      },
      "outputs": [
        {
          "output_type": "error",
          "ename": "FileNotFoundError",
          "evalue": "ignored",
          "traceback": [
            "\u001b[0;31m---------------------------------------------------------------------------\u001b[0m",
            "\u001b[0;31mFileNotFoundError\u001b[0m                         Traceback (most recent call last)",
            "\u001b[0;32m<ipython-input-3-f052e321bf4a>\u001b[0m in \u001b[0;36m<cell line: 4>\u001b[0;34m()\u001b[0m\n\u001b[1;32m      2\u001b[0m \u001b[0;32mfrom\u001b[0m \u001b[0mconfig\u001b[0m \u001b[0;32mimport\u001b[0m \u001b[0;34m*\u001b[0m\u001b[0;34m\u001b[0m\u001b[0;34m\u001b[0m\u001b[0m\n\u001b[1;32m      3\u001b[0m \u001b[0;34m\u001b[0m\u001b[0m\n\u001b[0;32m----> 4\u001b[0;31m \u001b[0mdf\u001b[0m \u001b[0;34m=\u001b[0m \u001b[0mpd\u001b[0m\u001b[0;34m.\u001b[0m\u001b[0mread_csv\u001b[0m\u001b[0;34m(\u001b[0m\u001b[0;34m'/content/homeless.csv'\u001b[0m\u001b[0;34m)\u001b[0m\u001b[0;34m\u001b[0m\u001b[0;34m\u001b[0m\u001b[0m\n\u001b[0m\u001b[1;32m      5\u001b[0m \u001b[0mdf\u001b[0m\u001b[0;34m.\u001b[0m\u001b[0mhead\u001b[0m\u001b[0;34m(\u001b[0m\u001b[0;34m)\u001b[0m\u001b[0;34m\u001b[0m\u001b[0;34m\u001b[0m\u001b[0m\n",
            "\u001b[0;32m/usr/local/lib/python3.10/dist-packages/pandas/util/_decorators.py\u001b[0m in \u001b[0;36mwrapper\u001b[0;34m(*args, **kwargs)\u001b[0m\n\u001b[1;32m    209\u001b[0m                 \u001b[0;32melse\u001b[0m\u001b[0;34m:\u001b[0m\u001b[0;34m\u001b[0m\u001b[0;34m\u001b[0m\u001b[0m\n\u001b[1;32m    210\u001b[0m                     \u001b[0mkwargs\u001b[0m\u001b[0;34m[\u001b[0m\u001b[0mnew_arg_name\u001b[0m\u001b[0;34m]\u001b[0m \u001b[0;34m=\u001b[0m \u001b[0mnew_arg_value\u001b[0m\u001b[0;34m\u001b[0m\u001b[0;34m\u001b[0m\u001b[0m\n\u001b[0;32m--> 211\u001b[0;31m             \u001b[0;32mreturn\u001b[0m \u001b[0mfunc\u001b[0m\u001b[0;34m(\u001b[0m\u001b[0;34m*\u001b[0m\u001b[0margs\u001b[0m\u001b[0;34m,\u001b[0m \u001b[0;34m**\u001b[0m\u001b[0mkwargs\u001b[0m\u001b[0;34m)\u001b[0m\u001b[0;34m\u001b[0m\u001b[0;34m\u001b[0m\u001b[0m\n\u001b[0m\u001b[1;32m    212\u001b[0m \u001b[0;34m\u001b[0m\u001b[0m\n\u001b[1;32m    213\u001b[0m         \u001b[0;32mreturn\u001b[0m \u001b[0mcast\u001b[0m\u001b[0;34m(\u001b[0m\u001b[0mF\u001b[0m\u001b[0;34m,\u001b[0m \u001b[0mwrapper\u001b[0m\u001b[0;34m)\u001b[0m\u001b[0;34m\u001b[0m\u001b[0;34m\u001b[0m\u001b[0m\n",
            "\u001b[0;32m/usr/local/lib/python3.10/dist-packages/pandas/util/_decorators.py\u001b[0m in \u001b[0;36mwrapper\u001b[0;34m(*args, **kwargs)\u001b[0m\n\u001b[1;32m    329\u001b[0m                     \u001b[0mstacklevel\u001b[0m\u001b[0;34m=\u001b[0m\u001b[0mfind_stack_level\u001b[0m\u001b[0;34m(\u001b[0m\u001b[0;34m)\u001b[0m\u001b[0;34m,\u001b[0m\u001b[0;34m\u001b[0m\u001b[0;34m\u001b[0m\u001b[0m\n\u001b[1;32m    330\u001b[0m                 )\n\u001b[0;32m--> 331\u001b[0;31m             \u001b[0;32mreturn\u001b[0m \u001b[0mfunc\u001b[0m\u001b[0;34m(\u001b[0m\u001b[0;34m*\u001b[0m\u001b[0margs\u001b[0m\u001b[0;34m,\u001b[0m \u001b[0;34m**\u001b[0m\u001b[0mkwargs\u001b[0m\u001b[0;34m)\u001b[0m\u001b[0;34m\u001b[0m\u001b[0;34m\u001b[0m\u001b[0m\n\u001b[0m\u001b[1;32m    332\u001b[0m \u001b[0;34m\u001b[0m\u001b[0m\n\u001b[1;32m    333\u001b[0m         \u001b[0;31m# error: \"Callable[[VarArg(Any), KwArg(Any)], Any]\" has no\u001b[0m\u001b[0;34m\u001b[0m\u001b[0;34m\u001b[0m\u001b[0m\n",
            "\u001b[0;32m/usr/local/lib/python3.10/dist-packages/pandas/io/parsers/readers.py\u001b[0m in \u001b[0;36mread_csv\u001b[0;34m(filepath_or_buffer, sep, delimiter, header, names, index_col, usecols, squeeze, prefix, mangle_dupe_cols, dtype, engine, converters, true_values, false_values, skipinitialspace, skiprows, skipfooter, nrows, na_values, keep_default_na, na_filter, verbose, skip_blank_lines, parse_dates, infer_datetime_format, keep_date_col, date_parser, dayfirst, cache_dates, iterator, chunksize, compression, thousands, decimal, lineterminator, quotechar, quoting, doublequote, escapechar, comment, encoding, encoding_errors, dialect, error_bad_lines, warn_bad_lines, on_bad_lines, delim_whitespace, low_memory, memory_map, float_precision, storage_options)\u001b[0m\n\u001b[1;32m    948\u001b[0m     \u001b[0mkwds\u001b[0m\u001b[0;34m.\u001b[0m\u001b[0mupdate\u001b[0m\u001b[0;34m(\u001b[0m\u001b[0mkwds_defaults\u001b[0m\u001b[0;34m)\u001b[0m\u001b[0;34m\u001b[0m\u001b[0;34m\u001b[0m\u001b[0m\n\u001b[1;32m    949\u001b[0m \u001b[0;34m\u001b[0m\u001b[0m\n\u001b[0;32m--> 950\u001b[0;31m     \u001b[0;32mreturn\u001b[0m \u001b[0m_read\u001b[0m\u001b[0;34m(\u001b[0m\u001b[0mfilepath_or_buffer\u001b[0m\u001b[0;34m,\u001b[0m \u001b[0mkwds\u001b[0m\u001b[0;34m)\u001b[0m\u001b[0;34m\u001b[0m\u001b[0;34m\u001b[0m\u001b[0m\n\u001b[0m\u001b[1;32m    951\u001b[0m \u001b[0;34m\u001b[0m\u001b[0m\n\u001b[1;32m    952\u001b[0m \u001b[0;34m\u001b[0m\u001b[0m\n",
            "\u001b[0;32m/usr/local/lib/python3.10/dist-packages/pandas/io/parsers/readers.py\u001b[0m in \u001b[0;36m_read\u001b[0;34m(filepath_or_buffer, kwds)\u001b[0m\n\u001b[1;32m    603\u001b[0m \u001b[0;34m\u001b[0m\u001b[0m\n\u001b[1;32m    604\u001b[0m     \u001b[0;31m# Create the parser.\u001b[0m\u001b[0;34m\u001b[0m\u001b[0;34m\u001b[0m\u001b[0m\n\u001b[0;32m--> 605\u001b[0;31m     \u001b[0mparser\u001b[0m \u001b[0;34m=\u001b[0m \u001b[0mTextFileReader\u001b[0m\u001b[0;34m(\u001b[0m\u001b[0mfilepath_or_buffer\u001b[0m\u001b[0;34m,\u001b[0m \u001b[0;34m**\u001b[0m\u001b[0mkwds\u001b[0m\u001b[0;34m)\u001b[0m\u001b[0;34m\u001b[0m\u001b[0;34m\u001b[0m\u001b[0m\n\u001b[0m\u001b[1;32m    606\u001b[0m \u001b[0;34m\u001b[0m\u001b[0m\n\u001b[1;32m    607\u001b[0m     \u001b[0;32mif\u001b[0m \u001b[0mchunksize\u001b[0m \u001b[0;32mor\u001b[0m \u001b[0miterator\u001b[0m\u001b[0;34m:\u001b[0m\u001b[0;34m\u001b[0m\u001b[0;34m\u001b[0m\u001b[0m\n",
            "\u001b[0;32m/usr/local/lib/python3.10/dist-packages/pandas/io/parsers/readers.py\u001b[0m in \u001b[0;36m__init__\u001b[0;34m(self, f, engine, **kwds)\u001b[0m\n\u001b[1;32m   1440\u001b[0m \u001b[0;34m\u001b[0m\u001b[0m\n\u001b[1;32m   1441\u001b[0m         \u001b[0mself\u001b[0m\u001b[0;34m.\u001b[0m\u001b[0mhandles\u001b[0m\u001b[0;34m:\u001b[0m \u001b[0mIOHandles\u001b[0m \u001b[0;34m|\u001b[0m \u001b[0;32mNone\u001b[0m \u001b[0;34m=\u001b[0m \u001b[0;32mNone\u001b[0m\u001b[0;34m\u001b[0m\u001b[0;34m\u001b[0m\u001b[0m\n\u001b[0;32m-> 1442\u001b[0;31m         \u001b[0mself\u001b[0m\u001b[0;34m.\u001b[0m\u001b[0m_engine\u001b[0m \u001b[0;34m=\u001b[0m \u001b[0mself\u001b[0m\u001b[0;34m.\u001b[0m\u001b[0m_make_engine\u001b[0m\u001b[0;34m(\u001b[0m\u001b[0mf\u001b[0m\u001b[0;34m,\u001b[0m \u001b[0mself\u001b[0m\u001b[0;34m.\u001b[0m\u001b[0mengine\u001b[0m\u001b[0;34m)\u001b[0m\u001b[0;34m\u001b[0m\u001b[0;34m\u001b[0m\u001b[0m\n\u001b[0m\u001b[1;32m   1443\u001b[0m \u001b[0;34m\u001b[0m\u001b[0m\n\u001b[1;32m   1444\u001b[0m     \u001b[0;32mdef\u001b[0m \u001b[0mclose\u001b[0m\u001b[0;34m(\u001b[0m\u001b[0mself\u001b[0m\u001b[0;34m)\u001b[0m \u001b[0;34m->\u001b[0m \u001b[0;32mNone\u001b[0m\u001b[0;34m:\u001b[0m\u001b[0;34m\u001b[0m\u001b[0;34m\u001b[0m\u001b[0m\n",
            "\u001b[0;32m/usr/local/lib/python3.10/dist-packages/pandas/io/parsers/readers.py\u001b[0m in \u001b[0;36m_make_engine\u001b[0;34m(self, f, engine)\u001b[0m\n\u001b[1;32m   1733\u001b[0m                 \u001b[0;32mif\u001b[0m \u001b[0;34m\"b\"\u001b[0m \u001b[0;32mnot\u001b[0m \u001b[0;32min\u001b[0m \u001b[0mmode\u001b[0m\u001b[0;34m:\u001b[0m\u001b[0;34m\u001b[0m\u001b[0;34m\u001b[0m\u001b[0m\n\u001b[1;32m   1734\u001b[0m                     \u001b[0mmode\u001b[0m \u001b[0;34m+=\u001b[0m \u001b[0;34m\"b\"\u001b[0m\u001b[0;34m\u001b[0m\u001b[0;34m\u001b[0m\u001b[0m\n\u001b[0;32m-> 1735\u001b[0;31m             self.handles = get_handle(\n\u001b[0m\u001b[1;32m   1736\u001b[0m                 \u001b[0mf\u001b[0m\u001b[0;34m,\u001b[0m\u001b[0;34m\u001b[0m\u001b[0;34m\u001b[0m\u001b[0m\n\u001b[1;32m   1737\u001b[0m                 \u001b[0mmode\u001b[0m\u001b[0;34m,\u001b[0m\u001b[0;34m\u001b[0m\u001b[0;34m\u001b[0m\u001b[0m\n",
            "\u001b[0;32m/usr/local/lib/python3.10/dist-packages/pandas/io/common.py\u001b[0m in \u001b[0;36mget_handle\u001b[0;34m(path_or_buf, mode, encoding, compression, memory_map, is_text, errors, storage_options)\u001b[0m\n\u001b[1;32m    854\u001b[0m         \u001b[0;32mif\u001b[0m \u001b[0mioargs\u001b[0m\u001b[0;34m.\u001b[0m\u001b[0mencoding\u001b[0m \u001b[0;32mand\u001b[0m \u001b[0;34m\"b\"\u001b[0m \u001b[0;32mnot\u001b[0m \u001b[0;32min\u001b[0m \u001b[0mioargs\u001b[0m\u001b[0;34m.\u001b[0m\u001b[0mmode\u001b[0m\u001b[0;34m:\u001b[0m\u001b[0;34m\u001b[0m\u001b[0;34m\u001b[0m\u001b[0m\n\u001b[1;32m    855\u001b[0m             \u001b[0;31m# Encoding\u001b[0m\u001b[0;34m\u001b[0m\u001b[0;34m\u001b[0m\u001b[0m\n\u001b[0;32m--> 856\u001b[0;31m             handle = open(\n\u001b[0m\u001b[1;32m    857\u001b[0m                 \u001b[0mhandle\u001b[0m\u001b[0;34m,\u001b[0m\u001b[0;34m\u001b[0m\u001b[0;34m\u001b[0m\u001b[0m\n\u001b[1;32m    858\u001b[0m                 \u001b[0mioargs\u001b[0m\u001b[0;34m.\u001b[0m\u001b[0mmode\u001b[0m\u001b[0;34m,\u001b[0m\u001b[0;34m\u001b[0m\u001b[0;34m\u001b[0m\u001b[0m\n",
            "\u001b[0;31mFileNotFoundError\u001b[0m: [Errno 2] No such file or directory: '/content/homeless.csv'"
          ]
        }
      ],
      "source": [
        "import pandas as pd\n",
        "from config import *\n",
        "\n",
        "df = pd.read_csv('/content/homeless.csv')\n",
        "df.head()"
      ]
    },
    {
      "cell_type": "markdown",
      "id": "a8b0807d",
      "metadata": {
        "id": "a8b0807d"
      },
      "source": [
        "Select only some fields"
      ]
    },
    {
      "cell_type": "code",
      "execution_count": null,
      "id": "2127eb08",
      "metadata": {
        "id": "2127eb08"
      },
      "outputs": [],
      "source": [
        "df.Citizenship.unique()"
      ]
    },
    {
      "cell_type": "code",
      "execution_count": null,
      "id": "580aaac3",
      "metadata": {
        "id": "580aaac3"
      },
      "outputs": [],
      "source": [
        "df['Territory'] = df['Territory'].str.replace('Trentino Alto Adige', 'Trentino-Alto Adige/Südtirol')"
      ]
    },
    {
      "cell_type": "markdown",
      "id": "69890bda",
      "metadata": {
        "id": "69890bda"
      },
      "source": [
        "Focus on total age, total sex and total citizenship"
      ]
    },
    {
      "cell_type": "code",
      "execution_count": null,
      "id": "e692909d",
      "metadata": {
        "id": "e692909d"
      },
      "outputs": [],
      "source": [
        "df_tot = df[(df['Age'] == 'TOTAL') & (df['Sex'] == 'T') &  (df['Citizenship'] == 'TOTAL')]"
      ]
    },
    {
      "cell_type": "markdown",
      "id": "851daed6",
      "metadata": {
        "id": "851daed6"
      },
      "source": [
        "## Draw a preliminary map"
      ]
    },
    {
      "cell_type": "code",
      "source": [
        "height=300\n",
        "width=300\n",
        "labelFontSize=15\n",
        "titleFontSize=20 # axis title font size\n",
        "fontSize=25 # title font size\n",
        "textFontSize=22\n",
        "offset=25\n",
        "\n",
        "# level 3\n",
        "color='#636466'\n",
        "iColor='#80C11E'\n",
        "color2 = ['#636466','#80C11E']\n",
        "color6 = ['#636466','#80C11E', '#D8519E', '#E37A45','#773B9A','#E6CB03']\n",
        "iColor2 = ['#80C11E','#636466']\n",
        "\n",
        "\n",
        "def configure_layout(chart):\n",
        "    return chart.configure_axis(\n",
        "        labelFontSize=labelFontSize,\n",
        "        titleFontSize=titleFontSize\n",
        "    ).configure_title(fontSize=fontSize,offset=offset\n",
        "    ).configure_legend(titleFontSize=titleFontSize, labelFontSize=labelFontSize)"
      ],
      "metadata": {
        "id": "qES58d0fyU0A"
      },
      "id": "qES58d0fyU0A",
      "execution_count": null,
      "outputs": []
    },
    {
      "cell_type": "code",
      "execution_count": null,
      "id": "0efb0b28",
      "metadata": {
        "id": "0efb0b28"
      },
      "outputs": [],
      "source": [
        "import altair as alt\n",
        "\n",
        "# Load the TopoJSON file by URL\n",
        "url = \"https://raw.githubusercontent.com/openpolis/geojson-italy/master/topojson/limits_IT_regions.topo.json\"\n",
        "\n",
        "\n",
        "source = alt.topo_feature(url, \"regions\")\n",
        "\n",
        "chart = alt.Chart(source).mark_geoshape().encode(\n",
        "    tooltip='properties.reg_name:N',\n",
        "    color=alt.Color('Value:Q')\n",
        ").project('mercator').properties(\n",
        "    width=500,\n",
        "    height=500\n",
        ").transform_lookup(\n",
        "    lookup='properties.reg_name',\n",
        "    from_=alt.LookupData(df_tot, 'Territory', ['Territory', 'Value'])\n",
        ").properties(title='Homeless in Italy in 2021')\n",
        "\n",
        "configure_layout(chart)"
      ]
    },
    {
      "cell_type": "markdown",
      "id": "c0a86cff",
      "metadata": {
        "id": "c0a86cff"
      },
      "source": [
        "# Focus on the key message"
      ]
    },
    {
      "cell_type": "code",
      "execution_count": null,
      "id": "8b4d1a79",
      "metadata": {
        "scrolled": true,
        "id": "8b4d1a79"
      },
      "outputs": [],
      "source": [
        "df_tot['Territory'] = df_tot['Territory'].str.replace('Trentino-Alto Adige/Südtirol','Trentino Alto Adige')\n",
        "\n",
        "chart = alt.Chart(df_tot).mark_bar(color=color).encode(\n",
        "    y = alt.Y('Territory:N', sort='-x', axis=alt.Axis(title='')),\n",
        "    x = alt.X('Value:Q', axis=alt.Axis(title='Number of homeless')),\n",
        "\n",
        ").properties(title='Homeless in Italy in 2021')\n",
        "\n",
        "configure_layout(chart)"
      ]
    },
    {
      "cell_type": "code",
      "execution_count": null,
      "id": "a618f0c5",
      "metadata": {
        "id": "a618f0c5"
      },
      "outputs": [],
      "source": [
        "chart"
      ]
    },
    {
      "cell_type": "code",
      "execution_count": null,
      "id": "19452d9c",
      "metadata": {
        "id": "19452d9c"
      },
      "outputs": [],
      "source": [
        "chart.save('chart.html')"
      ]
    },
    {
      "cell_type": "markdown",
      "id": "59f96213",
      "metadata": {
        "id": "59f96213"
      },
      "source": [
        "Normalize by population"
      ]
    },
    {
      "cell_type": "code",
      "execution_count": null,
      "id": "54196e28",
      "metadata": {
        "id": "54196e28"
      },
      "outputs": [],
      "source": [
        "population = pd.read_csv('/content/population.csv')\n",
        "population.head()"
      ]
    },
    {
      "cell_type": "code",
      "execution_count": null,
      "id": "93afd3a0",
      "metadata": {
        "id": "93afd3a0"
      },
      "outputs": [],
      "source": [
        "pop_tot = population[(population['Age'] == 'TOTAL') & (population['Sex'] == 'T')]"
      ]
    },
    {
      "cell_type": "code",
      "execution_count": null,
      "id": "1270288d",
      "metadata": {
        "id": "1270288d"
      },
      "outputs": [],
      "source": [
        "len(df_tot), len(pop_tot)"
      ]
    },
    {
      "cell_type": "code",
      "execution_count": null,
      "id": "0d9d55d8",
      "metadata": {
        "id": "0d9d55d8"
      },
      "outputs": [],
      "source": [
        "df_tot.columns"
      ]
    },
    {
      "cell_type": "code",
      "execution_count": null,
      "id": "37f7488c",
      "metadata": {
        "id": "37f7488c"
      },
      "outputs": [],
      "source": [
        "df_tot.Territory.unique()"
      ]
    },
    {
      "cell_type": "code",
      "execution_count": null,
      "id": "7fa6b885",
      "metadata": {
        "id": "7fa6b885"
      },
      "outputs": [],
      "source": [
        "pop_tot.Territory.unique()"
      ]
    },
    {
      "cell_type": "markdown",
      "id": "e80cd5f5",
      "metadata": {
        "id": "e80cd5f5"
      },
      "source": [
        "Join the two datasets"
      ]
    },
    {
      "cell_type": "code",
      "execution_count": null,
      "id": "2c5c2e9c",
      "metadata": {
        "id": "2c5c2e9c"
      },
      "outputs": [],
      "source": [
        "df_tot = df_tot[['Value', 'ITTER107']]\n",
        "pop_tot = pop_tot[['Value', 'ITTER107','Territory']]"
      ]
    },
    {
      "cell_type": "code",
      "execution_count": null,
      "id": "30135c81",
      "metadata": {
        "id": "30135c81"
      },
      "outputs": [],
      "source": [
        "df3 = pop_tot.set_index('ITTER107').join(df_tot.set_index('ITTER107'),lsuffix='_pop', rsuffix='_hom').reset_index()"
      ]
    },
    {
      "cell_type": "markdown",
      "id": "15fcaef3",
      "metadata": {
        "id": "15fcaef3"
      },
      "source": [
        "Calculate ratio: number of homeless people over 1000 inhabitants"
      ]
    },
    {
      "cell_type": "code",
      "execution_count": null,
      "id": "bbc2828f",
      "metadata": {
        "id": "bbc2828f"
      },
      "outputs": [],
      "source": [
        "df3['Ratio'] = df3['Value_hom']/df3['Value_pop']*1000"
      ]
    },
    {
      "cell_type": "code",
      "execution_count": null,
      "id": "76ff7621",
      "metadata": {
        "id": "76ff7621"
      },
      "outputs": [],
      "source": [
        "chart = alt.Chart(df3).mark_bar().encode(\n",
        "    y = alt.Y('Territory', sort='-x', axis=alt.Axis(title='')),\n",
        "    x = alt.X('Ratio', axis=alt.Axis(tickCount=4,title='')),\n",
        "    color=alt.condition(alt.datum.Ratio > 2, alt.value(iColor), alt.value('lightgray'))\n",
        "\n",
        ").properties(width=500,title='Number of homeless people in a population of 1,000')\n",
        "\n",
        "configure_layout(chart)"
      ]
    },
    {
      "cell_type": "markdown",
      "id": "2a907880",
      "metadata": {
        "id": "2a907880"
      },
      "source": [
        "# Adding a context"
      ]
    },
    {
      "cell_type": "code",
      "execution_count": null,
      "id": "cedbfa6d",
      "metadata": {
        "id": "cedbfa6d"
      },
      "outputs": [],
      "source": [
        "chart = alt.Chart(df3).mark_bar().encode(\n",
        "    y = alt.Y('Territory', sort='-x', axis=alt.Axis(title='')),\n",
        "    x = alt.X('Ratio', axis=alt.Axis(tickCount=4,title='')),\n",
        "    color=alt.condition(alt.datum.Ratio > 2, alt.value(iColor), alt.value('lightgray'))\n",
        "\n",
        ").properties(width=500,title=alt.TitleParams(\n",
        "    text=[\"Together, Let's Make a Difference:\",\"Support Our Project to Help the Homeless!\"],\n",
        "    subtitle=['Homelessness is a heartbreaking reality that leaves individuals and families without a stable home,','leading to devastating consequences such as poor health and social isolation.'],\n",
        "    subtitleFontSize=18\n",
        "))\n",
        "\n",
        "\n",
        "configure_layout(chart)"
      ]
    },
    {
      "cell_type": "code",
      "execution_count": null,
      "id": "f1096077",
      "metadata": {
        "id": "f1096077"
      },
      "outputs": [],
      "source": [
        "\n",
        "# Create an Altair chart with an image mark\n",
        "image1 = alt.Chart(pd.DataFrame({'image_url': ['source/homeless1.png']})).mark_image(\n",
        "    width=200,\n",
        "    height=200,\n",
        ").encode(\n",
        "    url='image_url',\n",
        "    x=alt.value(0),  # pixels from left\n",
        "    y=alt.value(50)\n",
        ")\n",
        "\n",
        "image2 = alt.Chart(pd.DataFrame({'image_url': ['source/homeless2.png']})).mark_image(\n",
        "    width=200,\n",
        "    height=200,\n",
        ").encode(\n",
        "    url='image_url',\n",
        "    x=alt.value(0),  # pixels from left\n",
        "    y=alt.value(300)\n",
        ")\n",
        "\n",
        "configure_layout(image1 + image2| chart)"
      ]
    },
    {
      "cell_type": "markdown",
      "id": "61efbb0b",
      "metadata": {
        "id": "61efbb0b"
      },
      "source": [
        "# Adding next steps"
      ]
    },
    {
      "cell_type": "code",
      "execution_count": null,
      "id": "a3fe2659",
      "metadata": {
        "id": "a3fe2659"
      },
      "outputs": [],
      "source": [
        "ns = pd.read_csv('/content/next_steps.csv')\n",
        "ns.head()"
      ]
    },
    {
      "cell_type": "code",
      "execution_count": null,
      "id": "6a44f98d",
      "metadata": {
        "id": "6a44f98d"
      },
      "outputs": [],
      "source": [
        "donuts = None\n",
        "for index, row in ns.iterrows():\n",
        "    # Create a pie chart for the current row\n",
        "    curr_ns = pd.DataFrame(\n",
        "        {'Category': ['A', 'B'],\n",
        "         'Value': [row['Allocation'], 100-row['Allocation']]\n",
        "        }\n",
        "    )\n",
        "    donut = alt.Chart(curr_ns).mark_arc(outerRadius=30,innerRadius=20).encode(\n",
        "        theta=alt.Theta(\"Value:Q\",stack=True),\n",
        "        color=alt.Color(\"Category:N\",scale=alt.Scale(range=[iColor, 'lightgray']),legend=None)\n",
        "    )\n",
        "    title = alt.Chart(curr_ns).mark_text(text=row['Category'], y=0, size=16)\n",
        "    text = alt.Chart(curr_ns).mark_text(text=f\"{row['Allocation']}%\", color=iColor, size=16)\n",
        "    donut = donut.properties(\n",
        "        height=100,\n",
        "        width=100\n",
        "    )\n",
        "    if index == 0:\n",
        "        donuts = title+donut+text\n",
        "    else:\n",
        "        donuts = alt.hconcat(donuts, title+donut+text)\n",
        "donuts = donuts.properties(title='Our visionary plan to harness the funds')\n",
        "configure_layout(donuts)"
      ]
    },
    {
      "cell_type": "code",
      "execution_count": null,
      "id": "9c252c85",
      "metadata": {
        "id": "9c252c85"
      },
      "outputs": [],
      "source": [
        "configure_layout(alt.vconcat(image1 + image2| chart,donuts))"
      ]
    },
    {
      "cell_type": "code",
      "execution_count": null,
      "id": "82919c59",
      "metadata": {
        "id": "82919c59"
      },
      "outputs": [],
      "source": []
    },
    {
      "cell_type": "code",
      "execution_count": null,
      "id": "dd0199bd",
      "metadata": {
        "id": "dd0199bd"
      },
      "outputs": [],
      "source": []
    }
  ],
  "metadata": {
    "kernelspec": {
      "display_name": "Python 3 (ipykernel)",
      "language": "python",
      "name": "python3"
    },
    "language_info": {
      "codemirror_mode": {
        "name": "ipython",
        "version": 3
      },
      "file_extension": ".py",
      "mimetype": "text/x-python",
      "name": "python",
      "nbconvert_exporter": "python",
      "pygments_lexer": "ipython3",
      "version": "3.8.10"
    },
    "colab": {
      "provenance": [],
      "include_colab_link": true
    }
  },
  "nbformat": 4,
  "nbformat_minor": 5
}