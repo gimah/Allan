{
  "nbformat": 4,
  "nbformat_minor": 0,
  "metadata": {
    "colab": {
      "provenance": [],
      "collapsed_sections": [],
      "authorship_tag": "ABX9TyNrSZNaSgBKksWUh+JLb2YM",
      "include_colab_link": true
    },
    "kernelspec": {
      "name": "python3",
      "display_name": "Python 3"
    },
    "language_info": {
      "name": "python"
    }
  },
  "cells": [
    {
      "cell_type": "markdown",
      "metadata": {
        "id": "view-in-github",
        "colab_type": "text"
      },
      "source": [
        "<a href=\"https://colab.research.google.com/github/gimah/Allan/blob/master/Angela.ipynb\" target=\"_parent\"><img src=\"https://colab.research.google.com/assets/colab-badge.svg\" alt=\"Open In Colab\"/></a>"
      ]
    },
    {
      "cell_type": "code",
      "execution_count": null,
      "metadata": {
        "colab": {
          "base_uri": "https://localhost:8080/"
        },
        "id": "6WhN1IdPvsOJ",
        "outputId": "75066b07-f484-493c-dbe8-71b93bbb18b5"
      },
      "outputs": [
        {
          "output_type": "stream",
          "name": "stdout",
          "text": [
            "Enter your name :  Cynthia \n",
            "Enter your age: 25\n",
            "My name is Cynthia  and l am 25 old\n"
          ]
        }
      ],
      "source": [
        "# creating variables\n",
        "user_name = input(\"Enter your name :  \")\n",
        "user_age = input(\"Enter your age: \")\n",
        "v = print(\"My name is \"+ user_name + \" and l am \"+ user_age + \" old\")\n"
      ]
    },
    {
      "cell_type": "code",
      "source": [
        "# get the first two digit number using subscripting\n",
        "two_digit_number = input(\"Type a two digit number: \")\n",
        "\n",
        "# input the code here\n",
        "first_digit = int(two_digit_number[0])\n",
        "second_digit = int(two_digit_number[1])\n",
        "\n",
        "result = first_digit + second_digit\n",
        "print(result)\n"
      ],
      "metadata": {
        "colab": {
          "base_uri": "https://localhost:8080/"
        },
        "id": "VWC33F6N89hT",
        "outputId": "a4747e6d-b92d-4792-8233-e860433df8d0"
      },
      "execution_count": null,
      "outputs": [
        {
          "output_type": "stream",
          "name": "stdout",
          "text": [
            "Type a two digit number: 45.32\n",
            "9\n"
          ]
        }
      ]
    },
    {
      "cell_type": "code",
      "source": [
        "4+6\n",
        "457*2\n",
        "# 2**4\n",
        "# 12/2\n"
      ],
      "metadata": {
        "id": "oSeHunbm89RY",
        "colab": {
          "base_uri": "https://localhost:8080/"
        },
        "outputId": "a4c12ad7-7bf5-4e4b-a517-e30c45286a10"
      },
      "execution_count": null,
      "outputs": [
        {
          "output_type": "execute_result",
          "data": {
            "text/plain": [
              "914"
            ]
          },
          "metadata": {},
          "execution_count": 3
        }
      ]
    },
    {
      "cell_type": "code",
      "source": [
        "# Calculating a BMI project\n",
        "\n",
        "height = input(\"Enter your height: \")\n",
        "weight = input(\"Enter your weight: \")\n",
        "\n",
        "bmi = int(weight)/float(height)**2\n",
        "print(bmi)\n",
        "bmi_int = int(bmi)\n",
        "print(bmi_int)"
      ],
      "metadata": {
        "id": "ZMEQ8Nru887t",
        "colab": {
          "base_uri": "https://localhost:8080/"
        },
        "outputId": "23509369-0f1a-42f1-de33-7c90fa3b4f49"
      },
      "execution_count": null,
      "outputs": [
        {
          "output_type": "stream",
          "name": "stdout",
          "text": [
            "Enter your height: 1.5\n",
            "Enter your weight: 60\n",
            "26.666666666666668\n",
            "26\n"
          ]
        }
      ]
    },
    {
      "cell_type": "code",
      "source": [
        "# type conversion \n",
        "height = float(input(\"Enter your height: \"))\n",
        "weight = int(input(\"Enter your weight: \"))\n",
        "# mathematical operators\n",
        "bmi = weight/height*height\n",
        "print(bmi)"
      ],
      "metadata": {
        "colab": {
          "base_uri": "https://localhost:8080/"
        },
        "id": "y1xZVTsIHnev",
        "outputId": "7d7c329e-9a06-4baf-aa0b-1549f0fd433c"
      },
      "execution_count": null,
      "outputs": [
        {
          "output_type": "stream",
          "name": "stdout",
          "text": [
            "Enter your height: 1.5\n",
            "Enter your weight: 60\n",
            "60.0\n"
          ]
        }
      ]
    },
    {
      "cell_type": "code",
      "source": [
        "print(round(456/3),4)"
      ],
      "metadata": {
        "colab": {
          "base_uri": "https://localhost:8080/"
        },
        "id": "2NVja-6gHnPJ",
        "outputId": "66b429da-0611-4234-cc6c-f62e7609da1d"
      },
      "execution_count": null,
      "outputs": [
        {
          "output_type": "stream",
          "name": "stdout",
          "text": [
            "152 4\n"
          ]
        }
      ]
    },
    {
      "cell_type": "code",
      "source": [
        "print(round(100/3),4)\n"
      ],
      "metadata": {
        "colab": {
          "base_uri": "https://localhost:8080/"
        },
        "id": "8JIIyW_zI2g_",
        "outputId": "da443f9f-8c93-4df0-9e8a-3d4cbf7a145c"
      },
      "execution_count": null,
      "outputs": [
        {
          "output_type": "stream",
          "name": "stdout",
          "text": [
            "33 4\n"
          ]
        }
      ]
    },
    {
      "cell_type": "code",
      "source": [
        "# Checking whether a year is a leap year\n",
        "year = int(input(\"Which year do you want to check \"))\n",
        "\n",
        "if year % 4 ==0:\n",
        "  if year % 100 ==0:\n",
        "    if year % 400 ==0:\n",
        "      print(\"Leap year\")\n",
        "    else: \n",
        "      (\"Not a leap year\")\n",
        "  else:\n",
        "    print(\"Leap year\")\n",
        "else:\n",
        "  print(\"Not a leap year\")"
      ],
      "metadata": {
        "id": "K9P-LWVSI2d9",
        "colab": {
          "base_uri": "https://localhost:8080/"
        },
        "outputId": "65c030ce-08d4-4891-91de-b313259f30c1"
      },
      "execution_count": 3,
      "outputs": [
        {
          "output_type": "stream",
          "name": "stdout",
          "text": [
            "Which year do you want to check 1980\n",
            "Leap year\n"
          ]
        }
      ]
    },
    {
      "cell_type": "markdown",
      "source": [
        "# Roller Coaster Stat\n"
      ],
      "metadata": {
        "id": "ltD72Tskz3nb"
      }
    },
    {
      "cell_type": "code",
      "source": [
        "print(\"Welcome to the rollercoaster!\")\n",
        "height = int(input(\"What is your height in cm? \"))\n",
        "bill = 0\n",
        "\n",
        "if height >= 120:\n",
        "  print(\"You can ride the rollercoaster!\")\n",
        "  age = int(input(\"What is your age? \"))\n",
        "  if age < 12:\n",
        "    bill = 5\n",
        "    print(\"Child tickets are $5.\")\n",
        "  elif age <= 18:\n",
        "    bill = 7\n",
        "    print(\"Youth tickets are $7.\")\n",
        "  else:\n",
        "    bill = 12\n",
        "    print(\"Adult tickets are $12.\")\n",
        "  wants_video = input(\"Do you want a video taken? Y or N. \")\n",
        "  if wants_video== \"Y\":\n",
        "    bill *=2\n",
        "  print(f\"Your bill for the video is ${bill}\")\n",
        "\n",
        "  \n",
        "  wants_photo = input(\"Do you want a photo taken? Y or N. \")\n",
        "  if wants_photo == \"Y\":\n",
        "    bill += 3\n",
        "  \n",
        "    print(f\"Your final bill is ${bill}\")\n",
        "\n",
        "else:\n",
        "  print(\"Sorry, you have to grow taller before you can ride.\")\n"
      ],
      "metadata": {
        "id": "H9GdXqe3I2Rz",
        "colab": {
          "base_uri": "https://localhost:8080/"
        },
        "outputId": "85e785f8-4945-4ba9-cebc-3def0d870f28"
      },
      "execution_count": 6,
      "outputs": [
        {
          "output_type": "stream",
          "name": "stdout",
          "text": [
            "Welcome to the rollercoaster!\n",
            "What is your height in cm? 150\n",
            "You can ride the rollercoaster!\n",
            "What is your age? 18\n",
            "Youth tickets are $7.\n",
            "Do you want a video taken? Y or N. Y\n",
            "Your bill for the video is $14\n",
            "Do you want a photo taken? Y or N. Y\n",
            "Your final bill is $17\n"
          ]
        }
      ]
    },
    {
      "cell_type": "markdown",
      "source": [
        "###Pizza Deliveries as to what size to deliver"
      ],
      "metadata": {
        "id": "fW4-S6bK69E6"
      }
    },
    {
      "cell_type": "code",
      "source": [
        "print(\"Welcome to Python Pizza Deliveries!\")\n",
        "size = input(\"What size pizza do you want? S, M, or L \")\n",
        "add_pepperoni = input(\"Do you want pepperoni? Y or N \")\n",
        "extra_cheese = input(\"Do you want extra cheese? Y or N \")\n",
        "# the conditional statement\n",
        "bill = 0\n",
        "if size == 'S':\n",
        "  bill += 15\n",
        "elif size == 'M':\n",
        "  bill += 20\n",
        "else:\n",
        "  bill += 25\n",
        "if add_pepperoni == \"Y\":\n",
        "  if size == \"S\":\n",
        "    bill +=2\n",
        "  else:\n",
        "    bill +=3\n",
        "if extra_cheese ==\"Y\":\n",
        "  bill += 1\n",
        "print(f\"Your final bill is: ${bill}\")\n"
      ],
      "metadata": {
        "colab": {
          "base_uri": "https://localhost:8080/"
        },
        "id": "XRbfsGnOxiMP",
        "outputId": "da475165-194c-4ead-a06c-9c0dfff49504"
      },
      "execution_count": 1,
      "outputs": [
        {
          "output_type": "stream",
          "name": "stdout",
          "text": [
            "Welcome to Python Pizza Deliveries!\n",
            "What size pizza do you want? S, M, or L L\n",
            "Do you want pepperoni? Y or N Y\n",
            "Do you want extra cheese? Y or N Y\n",
            "Your final bill is: $29\n"
          ]
        }
      ]
    },
    {
      "cell_type": "code",
      "source": [],
      "metadata": {
        "id": "qs4VnHSqxiIo"
      },
      "execution_count": null,
      "outputs": []
    },
    {
      "cell_type": "code",
      "source": [],
      "metadata": {
        "id": "zJLER8woxiAI"
      },
      "execution_count": null,
      "outputs": []
    }
  ]
}