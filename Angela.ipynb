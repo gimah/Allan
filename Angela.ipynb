{
  "nbformat": 4,
  "nbformat_minor": 0,
  "metadata": {
    "colab": {
      "provenance": [],
      "collapsed_sections": [],
      "authorship_tag": "ABX9TyN29MzVB5GoWWPk3sx1nGuw",
      "include_colab_link": true
    },
    "kernelspec": {
      "name": "python3",
      "display_name": "Python 3"
    },
    "language_info": {
      "name": "python"
    }
  },
  "cells": [
    {
      "cell_type": "markdown",
      "metadata": {
        "id": "view-in-github",
        "colab_type": "text"
      },
      "source": [
        "<a href=\"https://colab.research.google.com/github/gimah/Allan/blob/master/Angela.ipynb\" target=\"_parent\"><img src=\"https://colab.research.google.com/assets/colab-badge.svg\" alt=\"Open In Colab\"/></a>"
      ]
    },
    {
      "cell_type": "code",
      "execution_count": null,
      "metadata": {
        "colab": {
          "base_uri": "https://localhost:8080/"
        },
        "id": "6WhN1IdPvsOJ",
        "outputId": "75066b07-f484-493c-dbe8-71b93bbb18b5"
      },
      "outputs": [
        {
          "output_type": "stream",
          "name": "stdout",
          "text": [
            "Enter your name :  Cynthia \n",
            "Enter your age: 25\n",
            "My name is Cynthia  and l am 25 old\n"
          ]
        }
      ],
      "source": [
        "# creating variables\n",
        "user_name = input(\"Enter your name :  \")\n",
        "user_age = input(\"Enter your age: \")\n",
        "v = print(\"My name is \"+ user_name + \" and l am \"+ user_age + \" old\")\n"
      ]
    },
    {
      "cell_type": "code",
      "source": [
        "# get the first two digit number using subscripting\n",
        "two_digit_number = input(\"Type a two digit number: \")\n",
        "\n",
        "# input the code here\n",
        "first_digit = int(two_digit_number[0])\n",
        "second_digit = int(two_digit_number[1])\n",
        "\n",
        "result = first_digit + second_digit\n",
        "print(result)\n"
      ],
      "metadata": {
        "colab": {
          "base_uri": "https://localhost:8080/"
        },
        "id": "VWC33F6N89hT",
        "outputId": "a4747e6d-b92d-4792-8233-e860433df8d0"
      },
      "execution_count": null,
      "outputs": [
        {
          "output_type": "stream",
          "name": "stdout",
          "text": [
            "Type a two digit number: 45.32\n",
            "9\n"
          ]
        }
      ]
    },
    {
      "cell_type": "code",
      "source": [
        "4+6\n",
        "457*2\n",
        "# 2**4\n",
        "# 12/2\n"
      ],
      "metadata": {
        "id": "oSeHunbm89RY",
        "colab": {
          "base_uri": "https://localhost:8080/"
        },
        "outputId": "a4c12ad7-7bf5-4e4b-a517-e30c45286a10"
      },
      "execution_count": null,
      "outputs": [
        {
          "output_type": "execute_result",
          "data": {
            "text/plain": [
              "914"
            ]
          },
          "metadata": {},
          "execution_count": 3
        }
      ]
    },
    {
      "cell_type": "code",
      "source": [
        "# Calculating a BMI project\n",
        "\n",
        "height = input(\"Enter your height: \")\n",
        "weight = input(\"Enter your weight: \")\n",
        "\n",
        "bmi = int(weight)/float(height)**2\n",
        "print(bmi)\n",
        "bmi_int = int(bmi)\n",
        "print(bmi_int)"
      ],
      "metadata": {
        "id": "ZMEQ8Nru887t",
        "colab": {
          "base_uri": "https://localhost:8080/"
        },
        "outputId": "23509369-0f1a-42f1-de33-7c90fa3b4f49"
      },
      "execution_count": null,
      "outputs": [
        {
          "output_type": "stream",
          "name": "stdout",
          "text": [
            "Enter your height: 1.5\n",
            "Enter your weight: 60\n",
            "26.666666666666668\n",
            "26\n"
          ]
        }
      ]
    },
    {
      "cell_type": "code",
      "source": [
        "# type conversion \n",
        "height = float(input(\"Enter your height: \"))\n",
        "weight = int(input(\"Enter your weight: \"))\n",
        "# mathematical operators\n",
        "bmi = weight/height*height\n",
        "print(bmi)"
      ],
      "metadata": {
        "colab": {
          "base_uri": "https://localhost:8080/"
        },
        "id": "y1xZVTsIHnev",
        "outputId": "7d7c329e-9a06-4baf-aa0b-1549f0fd433c"
      },
      "execution_count": null,
      "outputs": [
        {
          "output_type": "stream",
          "name": "stdout",
          "text": [
            "Enter your height: 1.5\n",
            "Enter your weight: 60\n",
            "60.0\n"
          ]
        }
      ]
    },
    {
      "cell_type": "code",
      "source": [
        "print(round(456/3),4)"
      ],
      "metadata": {
        "colab": {
          "base_uri": "https://localhost:8080/"
        },
        "id": "2NVja-6gHnPJ",
        "outputId": "66b429da-0611-4234-cc6c-f62e7609da1d"
      },
      "execution_count": null,
      "outputs": [
        {
          "output_type": "stream",
          "name": "stdout",
          "text": [
            "152 4\n"
          ]
        }
      ]
    },
    {
      "cell_type": "code",
      "source": [
        "print(round(100/3),4)\n"
      ],
      "metadata": {
        "colab": {
          "base_uri": "https://localhost:8080/"
        },
        "id": "8JIIyW_zI2g_",
        "outputId": "da443f9f-8c93-4df0-9e8a-3d4cbf7a145c"
      },
      "execution_count": null,
      "outputs": [
        {
          "output_type": "stream",
          "name": "stdout",
          "text": [
            "33 4\n"
          ]
        }
      ]
    },
    {
      "cell_type": "code",
      "source": [
        "# Checking whether a year is a leap year\n",
        "year = int(input(\"Which year do you want to check \"))\n",
        "\n",
        "if year % 4 ==0:\n",
        "  if year % 100 ==0:\n",
        "    if year % 400 ==0:\n",
        "      print(\"Leap year\")\n",
        "    else: \n",
        "      (\"Not a leap year\")\n",
        "  else:\n",
        "    print(\"Leap year\")\n",
        "else:\n",
        "  print(\"Not a leap year\")"
      ],
      "metadata": {
        "id": "K9P-LWVSI2d9",
        "colab": {
          "base_uri": "https://localhost:8080/"
        },
        "outputId": "65c030ce-08d4-4891-91de-b313259f30c1"
      },
      "execution_count": 3,
      "outputs": [
        {
          "output_type": "stream",
          "name": "stdout",
          "text": [
            "Which year do you want to check 1980\n",
            "Leap year\n"
          ]
        }
      ]
    },
    {
      "cell_type": "markdown",
      "source": [
        "# Roller Coaster Stat\n"
      ],
      "metadata": {
        "id": "ltD72Tskz3nb"
      }
    },
    {
      "cell_type": "code",
      "source": [
        "print(\"Welcome to the rollercoaster!\")\n",
        "height = int(input(\"What is your height in cm? \"))\n",
        "bill = 0\n",
        "\n",
        "if height >= 120:\n",
        "  print(\"You can ride the rollercoaster!\")\n",
        "  age = int(input(\"What is your age? \"))\n",
        "  if age < 12:\n",
        "    bill = 5\n",
        "    print(\"Child tickets are $5.\")\n",
        "  elif age <= 18:\n",
        "    bill = 7\n",
        "    print(\"Youth tickets are $7.\")\n",
        "  else:\n",
        "    bill = 12\n",
        "    print(\"Adult tickets are $12.\")\n",
        "  wants_video = input(\"Do you want a video taken? Y or N. \")\n",
        "  if wants_video== \"Y\":\n",
        "    bill *=2\n",
        "  print(f\"Your bill for the video is ${bill}\")\n",
        "\n",
        "  \n",
        "  wants_photo = input(\"Do you want a photo taken? Y or N. \")\n",
        "  if wants_photo == \"Y\":\n",
        "    bill += 3\n",
        "  \n",
        "    print(f\"Your final bill is ${bill}\")\n",
        "\n",
        "else:\n",
        "  print(\"Sorry, you have to grow taller before you can ride.\")\n"
      ],
      "metadata": {
        "id": "H9GdXqe3I2Rz",
        "colab": {
          "base_uri": "https://localhost:8080/"
        },
        "outputId": "85e785f8-4945-4ba9-cebc-3def0d870f28"
      },
      "execution_count": 6,
      "outputs": [
        {
          "output_type": "stream",
          "name": "stdout",
          "text": [
            "Welcome to the rollercoaster!\n",
            "What is your height in cm? 150\n",
            "You can ride the rollercoaster!\n",
            "What is your age? 18\n",
            "Youth tickets are $7.\n",
            "Do you want a video taken? Y or N. Y\n",
            "Your bill for the video is $14\n",
            "Do you want a photo taken? Y or N. Y\n",
            "Your final bill is $17\n"
          ]
        }
      ]
    },
    {
      "cell_type": "markdown",
      "source": [
        "###Pizza Deliveries as to what size to deliver"
      ],
      "metadata": {
        "id": "fW4-S6bK69E6"
      }
    },
    {
      "cell_type": "code",
      "source": [
        "print(\"Welcome to Python Pizza Deliveries!\")\n",
        "size = input(\"What size pizza do you want? S, M, or L \")\n",
        "add_pepperoni = input(\"Do you want pepperoni? Y or N \")\n",
        "extra_cheese = input(\"Do you want extra cheese? Y or N \")\n",
        "# the conditional statement\n",
        "bill = 0\n",
        "if size == 'S':\n",
        "  bill += 15\n",
        "elif size == 'M':\n",
        "  bill += 20\n",
        "else:\n",
        "  bill += 25\n",
        "if add_pepperoni == \"Y\":\n",
        "  if size == \"S\":\n",
        "    bill +=2\n",
        "  else:\n",
        "    bill +=3\n",
        "if extra_cheese ==\"Y\":\n",
        "  bill += 1\n",
        "print(f\"Your final bill is: ${bill}\")\n"
      ],
      "metadata": {
        "colab": {
          "base_uri": "https://localhost:8080/"
        },
        "id": "XRbfsGnOxiMP",
        "outputId": "da475165-194c-4ead-a06c-9c0dfff49504"
      },
      "execution_count": 1,
      "outputs": [
        {
          "output_type": "stream",
          "name": "stdout",
          "text": [
            "Welcome to Python Pizza Deliveries!\n",
            "What size pizza do you want? S, M, or L L\n",
            "Do you want pepperoni? Y or N Y\n",
            "Do you want extra cheese? Y or N Y\n",
            "Your final bill is: $29\n"
          ]
        }
      ]
    },
    {
      "cell_type": "code",
      "source": [
        "# 🚨 Don't change the code below 👇\n",
        "print(\"Welcome to the Love Calculator!\")\n",
        "name1 = input(\"What is your name? \\n\")\n",
        "name2 = input(\"What is their name? \\n\")\n",
        "# 🚨 Don't change the code above 👆\n",
        "\n",
        "#Write your code below this line 👇\n",
        "\n",
        "combined_string = name1+name2\n",
        "lower_case_string  = combined_string.lower()\n",
        "t = lower_case_string.count(\"t\")\n",
        "r = lower_case_string.count(\"r\")\n",
        "u = lower_case_string.count(\"u\")\n",
        "e = lower_case_string.count(\"e\")\n",
        "\n",
        "true = t + r +  u + e\n",
        "\n",
        "l = lower_case_string.count(\"l\")\n",
        "o = lower_case_string.count(\"o\")\n",
        "v = lower_case_string.count(\"v\")\n",
        "e = lower_case_string.count(\"e\")\n",
        "\n",
        "love = l + o + v + e\n",
        "\n",
        "love_score = int(str(true) + str(love))\n",
        "\n",
        "\n",
        "if love_score < 10 or love_score > 90:\n",
        "  print(f\"Your score is {love_score}, you go together like coke and mentos\")\n",
        "elif (love_score >= 40) and (love_score<=50):\n",
        "  print(f\"your score is {love_score},your alright together\")\n",
        "else:\n",
        "  print(f\"your score is {love_score}\")"
      ],
      "metadata": {
        "colab": {
          "base_uri": "https://localhost:8080/"
        },
        "id": "qs4VnHSqxiIo",
        "outputId": "1fbe1e11-a888-493a-dc53-6155792a7873"
      },
      "execution_count": 1,
      "outputs": [
        {
          "output_type": "stream",
          "name": "stdout",
          "text": [
            "Welcome to the Love Calculator!\n",
            "What is your name? \n",
            "Cynthia \n",
            "What is their name? \n",
            "George\n",
            "your score is 43,your alright together\n"
          ]
        }
      ]
    },
    {
      "cell_type": "code",
      "source": [
        "print('''\n",
        "*******************************************************************************\n",
        "          |                   |                  |                     |\n",
        " _________|________________.=\"\"_;=.______________|_____________________|_______\n",
        "|                   |  ,-\"_,=\"\"     `\"=.|                  |\n",
        "|___________________|__\"=._o`\"-._        `\"=.______________|___________________\n",
        "          |                `\"=._o`\"=._      _`\"=._                     |\n",
        " _________|_____________________:=._o \"=._.\"_.-=\"'\"=.__________________|_______\n",
        "|                   |    __.--\" , ; `\"=._o.\" ,-\"\"\"-._ \".   |\n",
        "|___________________|_._\"  ,. .` ` `` ,  `\"-._\"-._   \". '__|___________________\n",
        "          |           |o`\"=._` , \"` `; .\". ,  \"-._\"-._; ;              |\n",
        " _________|___________| ;`-.o`\"=._; .\" ` '`.\"\\` . \"-._ /_______________|_______\n",
        "|                   | |o;    `\"-.o`\"=._``  '` \" ,__.--o;   |\n",
        "|___________________|_| ;     (#) `-.o `\"=.`_.--\"_o.-; ;___|___________________\n",
        "____/______/______/___|o;._    \"      `\".o|o_.--\"    ;o;____/______/______/____\n",
        "/______/______/______/_\"=._o--._        ; | ;        ; ;/______/______/______/_\n",
        "____/______/______/______/__\"=._o--._   ;o|o;     _._;o;____/______/______/____\n",
        "/______/______/______/______/____\"=._o._; | ;_.--\"o.--\"_/______/______/______/_\n",
        "____/______/______/______/______/_____\"=.o|o_.--\"\"___/______/______/______/____\n",
        "/______/______/______/______/______/______/______/______/______/______/_____ /\n",
        "*******************************************************************************\n",
        "''')\n",
        "print(\"Welcome to Treasure Island.\")\n",
        "print(\"Your mission is to find the treasure.\") \n",
        "\n",
        "choice1= input(\"you\\'re at the crossroad, where do you want to go? Type 'right' or 'left'\\n\").lower()\n",
        "if choice1==\"left\":\n",
        "  choice2=input(\"You\\'re have come to the lake.There is an island in the middle of the lake. Type 'wait' to wait for the boat. Type 'swim' to swim to the other side\\n\").lower()\n",
        "  if choice2==\"wait\":\n",
        "    choice3=input(\"You're arrived at the island unharmed. There are 3 doors one red, one yellow and one blue. which one do you choose?\").lower()\n",
        "    if choice3=='red':\n",
        "      print(\"It a room full of fire. Game Over\")\n",
        "    elif choice3=='yellow':\n",
        "      print(\"You found a treasure. You win\")\n",
        "    elif choice3=='blue':\n",
        "      print(\"You enter a room of Beast. Game Over\\n\")\n",
        "    else:\n",
        "      print(\"You chose a room that does not exist. Game Over\")\n",
        "  else:\n",
        "    print(\"Got attached by angry trout\")\n",
        "else:\n",
        "  print(\"You fell into a hole,Game Over\")\n"
      ],
      "metadata": {
        "colab": {
          "base_uri": "https://localhost:8080/"
        },
        "id": "zJLER8woxiAI",
        "outputId": "e7518293-6d04-4a1c-99c8-d71bd354082f"
      },
      "execution_count": 1,
      "outputs": [
        {
          "output_type": "stream",
          "name": "stdout",
          "text": [
            "\n",
            "*******************************************************************************\n",
            "          |                   |                  |                     |\n",
            " _________|________________.=\"\"_;=.______________|_____________________|_______\n",
            "|                   |  ,-\"_,=\"\"     `\"=.|                  |\n",
            "|___________________|__\"=._o`\"-._        `\"=.______________|___________________\n",
            "          |                `\"=._o`\"=._      _`\"=._                     |\n",
            " _________|_____________________:=._o \"=._.\"_.-=\"'\"=.__________________|_______\n",
            "|                   |    __.--\" , ; `\"=._o.\" ,-\"\"\"-._ \".   |\n",
            "|___________________|_._\"  ,. .` ` `` ,  `\"-._\"-._   \". '__|___________________\n",
            "          |           |o`\"=._` , \"` `; .\". ,  \"-._\"-._; ;              |\n",
            " _________|___________| ;`-.o`\"=._; .\" ` '`.\"\\` . \"-._ /_______________|_______\n",
            "|                   | |o;    `\"-.o`\"=._``  '` \" ,__.--o;   |\n",
            "|___________________|_| ;     (#) `-.o `\"=.`_.--\"_o.-; ;___|___________________\n",
            "____/______/______/___|o;._    \"      `\".o|o_.--\"    ;o;____/______/______/____\n",
            "/______/______/______/_\"=._o--._        ; | ;        ; ;/______/______/______/_\n",
            "____/______/______/______/__\"=._o--._   ;o|o;     _._;o;____/______/______/____\n",
            "/______/______/______/______/____\"=._o._; | ;_.--\"o.--\"_/______/______/______/_\n",
            "____/______/______/______/______/_____\"=.o|o_.--\"\"___/______/______/______/____\n",
            "/______/______/______/______/______/______/______/______/______/______/_____ /\n",
            "*******************************************************************************\n",
            "\n",
            "Welcome to Treasure Island.\n",
            "Your mission is to find the treasure.\n",
            "you're at the crossroad, where do you want to go? Type 'right' or 'left'\n",
            "left\n",
            "You're have come to the lake.There is an island in the middle of the lake. Type 'wait' to wait for the boat. Type 'swim' to swim to the other side\n",
            "wait\n",
            "You're arrived at the island unharmed. There are 3 doors one red, one yellow and one blue. which one do you choose?yellow\n",
            "You found a treasure. You win\n"
          ]
        }
      ]
    },
    {
      "cell_type": "code",
      "source": [
        "print('''\n",
        "\n",
        "                 _                 __                 \n",
        "             __.--**\"\"\"**--...__..--**\"\"\"\"*-.            \n",
        "           .'                                `-.         \n",
        "         .'                         _           \\        \n",
        "        /                         .'        .    \\   _._ \n",
        "       :                         :          :`*.  :-'.' ;\n",
        "       ;    `                    ;          `.) \\   /.-' \n",
        "       :     `                             ; ' -*   ;    \n",
        "              :.    \\           :       :  :        :    \n",
        "        ;     ; `.   `.         ;     ` |  '             \n",
        "        |         `.            `. -*\"*\\; /        :     \n",
        "        |    :     /`-.           `.    \\/`.'  _    `.   \n",
        "        :    ;    :    `*-.__.-*\"\"\":`.   \\ ;  'o` `. /   \n",
        "              ;   ;                ;  \\   ;:       ;:   ,/\n",
        "         |  | |            [bug]      /`  | ,      `*-*'/ \n",
        "         `  : :  :                /  /    | : .    ._.-'  \n",
        "          \\  \\ ,  \\              :   `.   :  \\ \\   .'     \n",
        "           :  *:   ;             :    |`*-'   `*+-*       \n",
        "           `**-*`\"\"               *---*      \n",
        "\n",
        "\n",
        "\n",
        "''')\n",
        "print('welcome to the jungle of rhinos')"
      ],
      "metadata": {
        "colab": {
          "base_uri": "https://localhost:8080/"
        },
        "id": "iu43tXbqn1xC",
        "outputId": "dbfb9382-79e8-4d8f-cf78-2565ca195551"
      },
      "execution_count": 3,
      "outputs": [
        {
          "output_type": "stream",
          "name": "stdout",
          "text": [
            "\n",
            "\n",
            "                 _                 __                 \n",
            "             __.--**\"\"\"**--...__..--**\"\"\"\"*-.            \n",
            "           .'                                `-.         \n",
            "         .'                         _           \\        \n",
            "        /                         .'        .    \\   _._ \n",
            "       :                         :          :`*.  :-'.' ;\n",
            "       ;    `                    ;          `.) \\   /.-' \n",
            "       :     `                             ; ' -*   ;    \n",
            "              :.    \\           :       :  :        :    \n",
            "        ;     ; `.   `.         ;     ` |  '             \n",
            "        |         `.            `. -*\"*\\; /        :     \n",
            "        |    :     /`-.           `.    \\/`.'  _    `.   \n",
            "        :    ;    :    `*-.__.-*\"\"\":`.   \\ ;  'o` `. /   \n",
            "              ;   ;                ;  \\   ;:       ;:   ,/\n",
            "         |  | |            [bug]      /`  | ,      `*-*'/ \n",
            "         `  : :  :                /  /    | : .    ._.-'  \n",
            "          \\  \\ ,  \\              :   `.   :  \\ \\   .'     \n",
            "           :  *:   ;             :    |`*-'   `*+-*       \n",
            "           `**-*`\"\"               *---*      \n",
            "\n",
            "\n",
            "\n",
            "\n",
            "welcome to the jungle of rhinos\n"
          ]
        }
      ]
    },
    {
      "cell_type": "code",
      "source": [],
      "metadata": {
        "id": "u7pNGIobn1rJ"
      },
      "execution_count": null,
      "outputs": []
    },
    {
      "cell_type": "markdown",
      "source": [
        "## Choosing A Ballet Dress "
      ],
      "metadata": {
        "id": "fhgTpQloJEt3"
      }
    },
    {
      "cell_type": "code",
      "source": [
        "print('''\n",
        "\n",
        "                                                                                                    \n",
        "                                                                                                    \n",
        "                                                                                                    \n",
        "                                                                                                    \n",
        "                                                                                                    \n",
        "                                                                                                    \n",
        "                                                                                                    \n",
        "                                                                                                    \n",
        "                                                                                                    \n",
        "                                           ,ii;;::...                                               \n",
        "                                          188Ltt1tCCff;                                             \n",
        "                                        ,L8G;..,,:,..;C1                                            \n",
        "                                       108G;          iGL,                                          \n",
        "                                     .f8GG1            1GG;                                         \n",
        "                                    .f0GCt.    .::,.   .fGC:                                        \n",
        "                                    .fCGL.    .;ii1i,   ,fCL:                                       \n",
        "                                     tGGC:    ,,,;;,.    tCC1                                       \n",
        "                                     1CCGt .,  .    .   100L,                                       \n",
        "                                     ;LLLL.,;      .;. i8GG1                                        \n",
        "                                     .fLCGf..:.    ,, ,G0Gf,                                        \n",
        "                                      iLCG0f.ii;,,:. :C0GC;                                         \n",
        "                                      .fLCLt;f0GLft,iCCLCt                                          \n",
        "                                       itfLCGGGCCLLCCCLLt.                                          \n",
        "                                       1t1tCLLLLfLLLfLL1.                                           \n",
        "                                      ;LfLCttfftfLLftt1                                             \n",
        "                                     .GCG0GftfffLLfttL:                                             \n",
        "                                     ,GGGGGLfLfLLLfLL:                                              \n",
        "                                     :GGG00GCLfLLLCC,                                               \n",
        "                                     :0000000LLCC08:                                                \n",
        "                                     .G000000000000:      ..,::;;:::.                               \n",
        "                                      t8008888888888titfLG008888888G:                               \n",
        "                                      ,0888888888888@@@@@@88888800G.                                \n",
        "                                       C8888888888888888888888800Gi                                 \n",
        "                                    :if0888888888888888888880Cf1i:                                  \n",
        "                               .:1LG8@880000GGGG0000G00GGGCLLf1i:,.                                 \n",
        "                          ;1ttLG888800GGCLLLCCCCCCCCLCCLt11ttfLCGGCf1:.                             \n",
        "                          f@8880000GGCCCfttttffftttt1ii;iii11tfLCCG088GCf:                          \n",
        "                          .itCGG0GGCCCLffftt1111iii:  .,::;;ii1tfLCG088@88L,                        \n",
        "                             tCCCCCLLffftttt111iiii:         ...,:fGG000GL1,                        \n",
        "                              :itt1;,,,,,,i111iiiiii.             .,:;ii;,.                         \n",
        "                                 .        ,111iiiiii,                                               \n",
        "                                           i11111111;                                               \n",
        "                                           .11111111i                                               \n",
        "                                            .i11tttti                                               \n",
        "                                             .1ttttt1                                               \n",
        "                                              iffffff,                                              \n",
        "                                               tLLLLCi                                              \n",
        "                                               ;LLCCCf                                              \n",
        "                                                LGGCCC:                                             \n",
        "                                                fCCCCG1                                             \n",
        "                                                fLLLft;                                             \n",
        "                                                tLft1;                                              \n",
        "                                                tLftt,                                              \n",
        "                                                1Lft1.                                              \n",
        "                                                iLtti                                               \n",
        "                                                1CLf;                                               \n",
        "                                                fCCCCf;                                             \n",
        "                                               .LLCCGG1                                             \n",
        "                                                fCGC1.                                              \n",
        "                                                :CGL,                                               \n",
        "                                                 iL0i                                               \n",
        "                                                  :f1                                               \n",
        "                                                   ,,                                               \n",
        "                                                                                                    \n",
        "                                                                              \n",
        "\n",
        "\n",
        "''')\n",
        "print(\"To make a ballet girl dance well!\")\n",
        "choice1 = input(\"Walk on the cross roads, you can turn left or right: \\n\").lower()\n",
        "\n",
        "if choice1 == \"left\":\n",
        "  print(\"End Game Over\")\n",
        "else:\n",
        "  choice2=input(\"continue moving forward to locate the colour to choose the ballet dress. Is it red or yellow  or indigo? \\n\").lower()\n",
        "  if choice2 == 'red':\n",
        "    print(\"You fall into the ditch in the room! Game Over\")\n",
        "  elif choice2 =='yellow':\n",
        "    choice3=input(\"contiue to the beautiful gate and turn right or left? Then you will see the treasure  bag which is golden and silver 'golden' or silver:\\n\")\n",
        "    if choice3=='golden':\n",
        "      print('Yes you made it to the golden ballet dress')\n",
        "    else:\n",
        "      print('You made a silver ballet dress and you had a silver dress')\n",
        "  else:\n",
        "    print(\"The raid fall on the person in the room so Game Over\")\n",
        "\n"
      ],
      "metadata": {
        "colab": {
          "base_uri": "https://localhost:8080/"
        },
        "id": "xh6mMl-Un1mH",
        "outputId": "a4274fe7-a4a5-4241-9131-ab7054b689bc"
      },
      "execution_count": 2,
      "outputs": [
        {
          "output_type": "stream",
          "name": "stdout",
          "text": [
            "\n",
            "\n",
            "                                                                                                    \n",
            "                                                                                                    \n",
            "                                                                                                    \n",
            "                                                                                                    \n",
            "                                                                                                    \n",
            "                                                                                                    \n",
            "                                                                                                    \n",
            "                                                                                                    \n",
            "                                                                                                    \n",
            "                                           ,ii;;::...                                               \n",
            "                                          188Ltt1tCCff;                                             \n",
            "                                        ,L8G;..,,:,..;C1                                            \n",
            "                                       108G;          iGL,                                          \n",
            "                                     .f8GG1            1GG;                                         \n",
            "                                    .f0GCt.    .::,.   .fGC:                                        \n",
            "                                    .fCGL.    .;ii1i,   ,fCL:                                       \n",
            "                                     tGGC:    ,,,;;,.    tCC1                                       \n",
            "                                     1CCGt .,  .    .   100L,                                       \n",
            "                                     ;LLLL.,;      .;. i8GG1                                        \n",
            "                                     .fLCGf..:.    ,, ,G0Gf,                                        \n",
            "                                      iLCG0f.ii;,,:. :C0GC;                                         \n",
            "                                      .fLCLt;f0GLft,iCCLCt                                          \n",
            "                                       itfLCGGGCCLLCCCLLt.                                          \n",
            "                                       1t1tCLLLLfLLLfLL1.                                           \n",
            "                                      ;LfLCttfftfLLftt1                                             \n",
            "                                     .GCG0GftfffLLfttL:                                             \n",
            "                                     ,GGGGGLfLfLLLfLL:                                              \n",
            "                                     :GGG00GCLfLLLCC,                                               \n",
            "                                     :0000000LLCC08:                                                \n",
            "                                     .G000000000000:      ..,::;;:::.                               \n",
            "                                      t8008888888888titfLG008888888G:                               \n",
            "                                      ,0888888888888@@@@@@88888800G.                                \n",
            "                                       C8888888888888888888888800Gi                                 \n",
            "                                    :if0888888888888888888880Cf1i:                                  \n",
            "                               .:1LG8@880000GGGG0000G00GGGCLLf1i:,.                                 \n",
            "                          ;1ttLG888800GGCLLLCCCCCCCCLCCLt11ttfLCGGCf1:.                             \n",
            "                          f@8880000GGCCCfttttffftttt1ii;iii11tfLCCG088GCf:                          \n",
            "                          .itCGG0GGCCCLffftt1111iii:  .,::;;ii1tfLCG088@88L,                        \n",
            "                             tCCCCCLLffftttt111iiii:         ...,:fGG000GL1,                        \n",
            "                              :itt1;,,,,,,i111iiiiii.             .,:;ii;,.                         \n",
            "                                 .        ,111iiiiii,                                               \n",
            "                                           i11111111;                                               \n",
            "                                           .11111111i                                               \n",
            "                                            .i11tttti                                               \n",
            "                                             .1ttttt1                                               \n",
            "                                              iffffff,                                              \n",
            "                                               tLLLLCi                                              \n",
            "                                               ;LLCCCf                                              \n",
            "                                                LGGCCC:                                             \n",
            "                                                fCCCCG1                                             \n",
            "                                                fLLLft;                                             \n",
            "                                                tLft1;                                              \n",
            "                                                tLftt,                                              \n",
            "                                                1Lft1.                                              \n",
            "                                                iLtti                                               \n",
            "                                                1CLf;                                               \n",
            "                                                fCCCCf;                                             \n",
            "                                               .LLCCGG1                                             \n",
            "                                                fCGC1.                                              \n",
            "                                                :CGL,                                               \n",
            "                                                 iL0i                                               \n",
            "                                                  :f1                                               \n",
            "                                                   ,,                                               \n",
            "                                                                                                    \n",
            "                                                                              \n",
            "\n",
            "\n",
            "\n",
            "To make a ballet girl dance well!\n",
            "Walk on the cross roads, you can turn left or right: \n",
            "right\n",
            "continue moving forward to locate the colour to choose the ballet dress. Is it red or yellow  or indigo? \n",
            "yellow\n",
            "contiue to the beautiful gate and turn right or left? Then you will see the treasure  bag which is golden and silver 'golden' or silver:\n",
            "golden\n",
            "Yes you made it to the golden ballet dress\n"
          ]
        }
      ]
    },
    {
      "cell_type": "code",
      "source": [],
      "metadata": {
        "id": "OFrjk8Xyn1dQ"
      },
      "execution_count": null,
      "outputs": []
    },
    {
      "cell_type": "code",
      "source": [],
      "metadata": {
        "id": "MwArn_GCn1QP"
      },
      "execution_count": null,
      "outputs": []
    }
  ]
}