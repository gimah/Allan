{
  "nbformat": 4,
  "nbformat_minor": 0,
  "metadata": {
    "colab": {
      "provenance": [],
      "authorship_tag": "ABX9TyN/ljTY25QhBpLT5kNNPlM3",
      "include_colab_link": true
    },
    "kernelspec": {
      "name": "python3",
      "display_name": "Python 3"
    },
    "language_info": {
      "name": "python"
    }
  },
  "cells": [
    {
      "cell_type": "markdown",
      "metadata": {
        "id": "view-in-github",
        "colab_type": "text"
      },
      "source": [
        "<a href=\"https://colab.research.google.com/github/gimah/Allan/blob/master/Practice2_fundamental.ipynb\" target=\"_parent\"><img src=\"https://colab.research.google.com/assets/colab-badge.svg\" alt=\"Open In Colab\"/></a>"
      ]
    },
    {
      "cell_type": "code",
      "execution_count": null,
      "metadata": {
        "id": "hdhfhDmMKoVg"
      },
      "outputs": [],
      "source": [
        "def myfunc(num):\n",
        "    if num%2==0:\n",
        "        return False\n",
        "    else:\n",
        "        pass\n",
        "    return True\n",
        "    \n"
      ]
    },
    {
      "cell_type": "code",
      "source": [
        "myfunc(25)"
      ],
      "metadata": {
        "colab": {
          "base_uri": "https://localhost:8080/"
        },
        "id": "Z75KKhdXKsmL",
        "outputId": "fdf34148-f8bf-48c6-e1f8-202d6178e7cd"
      },
      "execution_count": null,
      "outputs": [
        {
          "output_type": "execute_result",
          "data": {
            "text/plain": [
              "True"
            ]
          },
          "metadata": {},
          "execution_count": 2
        }
      ]
    },
    {
      "cell_type": "code",
      "source": [
        "def has_33(num):\n",
        "\n",
        "    for i in range(0,len(num)-1):\n",
        "        if num[i:i+2]==[3,3]:\n",
        "            return True\n",
        "    return False \n"
      ],
      "metadata": {
        "id": "DouLT50SKsix"
      },
      "execution_count": null,
      "outputs": []
    },
    {
      "cell_type": "code",
      "source": [
        "has_33([1,3,4,3])"
      ],
      "metadata": {
        "colab": {
          "base_uri": "https://localhost:8080/"
        },
        "id": "TVpcf6CDKsfl",
        "outputId": "91f099f1-e832-43cd-b473-d8395c14ffde"
      },
      "execution_count": null,
      "outputs": [
        {
          "output_type": "execute_result",
          "data": {
            "text/plain": [
              "False"
            ]
          },
          "metadata": {},
          "execution_count": 7
        }
      ]
    },
    {
      "cell_type": "code",
      "source": [
        "has_33([1,3,4,5,3,3])"
      ],
      "metadata": {
        "colab": {
          "base_uri": "https://localhost:8080/"
        },
        "id": "izYQfj3iKscP",
        "outputId": "acfd2066-1222-4d6e-b486-2c964750a75a"
      },
      "execution_count": null,
      "outputs": [
        {
          "output_type": "execute_result",
          "data": {
            "text/plain": [
              "True"
            ]
          },
          "metadata": {},
          "execution_count": 8
        }
      ]
    },
    {
      "cell_type": "code",
      "source": [
        "def paper_dol(text):\n",
        "    result =' '\n",
        "    for char in text:\n",
        "        result += char*3\n",
        "    return result\n",
        "        "
      ],
      "metadata": {
        "id": "VIBXrJXwKsY1"
      },
      "execution_count": null,
      "outputs": []
    },
    {
      "cell_type": "code",
      "source": [
        "paper_dol('hkjkdfjlksj')"
      ],
      "metadata": {
        "colab": {
          "base_uri": "https://localhost:8080/",
          "height": 36
        },
        "id": "9RmQ_wg7KsVz",
        "outputId": "3a6e299a-94dd-45a5-81b0-881bb357d003"
      },
      "execution_count": null,
      "outputs": [
        {
          "output_type": "execute_result",
          "data": {
            "text/plain": [
              "' hhhkkkjjjkkkdddfffjjjlllkkksssjjj'"
            ],
            "application/vnd.google.colaboratory.intrinsic+json": {
              "type": "string"
            }
          },
          "metadata": {},
          "execution_count": 19
        }
      ]
    },
    {
      "cell_type": "code",
      "source": [
        "paper_dol('lakadaskalklkejkjrk')"
      ],
      "metadata": {
        "colab": {
          "base_uri": "https://localhost:8080/",
          "height": 36
        },
        "id": "LbICtBCgKsS3",
        "outputId": "749fcf60-bd6b-421a-eada-6e83f7558386"
      },
      "execution_count": null,
      "outputs": [
        {
          "output_type": "execute_result",
          "data": {
            "text/plain": [
              "' lllaaakkkaaadddaaassskkkaaalllkkklllkkkeeejjjkkkjjjrrrkkk'"
            ],
            "application/vnd.google.colaboratory.intrinsic+json": {
              "type": "string"
            }
          },
          "metadata": {},
          "execution_count": 20
        }
      ]
    },
    {
      "cell_type": "code",
      "source": [
        "def blackjack(a,b,c):\n",
        "\n",
        "    if sum((a,b,c))<=21:\n",
        "        return sum((a,b,c))\n",
        "    elif sum((a,b,c))-10 <= 21 and 11 in (a,b,c):\n",
        "        return sum((a,b,c))-10\n",
        "    else:\n",
        "        return 'BUST'\n"
      ],
      "metadata": {
        "id": "71h8eeVKKsPy"
      },
      "execution_count": null,
      "outputs": []
    },
    {
      "cell_type": "code",
      "source": [
        "blackjack(5,7,8)"
      ],
      "metadata": {
        "colab": {
          "base_uri": "https://localhost:8080/"
        },
        "id": "er6GRIf2KsMz",
        "outputId": "5e200d23-5a0a-4c33-f308-bd4c4fdb0c2b"
      },
      "execution_count": null,
      "outputs": [
        {
          "output_type": "execute_result",
          "data": {
            "text/plain": [
              "20"
            ]
          },
          "metadata": {},
          "execution_count": 24
        }
      ]
    },
    {
      "cell_type": "code",
      "source": [
        "blackjack(5,6,7)"
      ],
      "metadata": {
        "colab": {
          "base_uri": "https://localhost:8080/"
        },
        "id": "cSdqcoFRKsJ2",
        "outputId": "efab3e52-7225-43d0-e231-4c5b64171250"
      },
      "execution_count": null,
      "outputs": [
        {
          "output_type": "execute_result",
          "data": {
            "text/plain": [
              "18"
            ]
          },
          "metadata": {},
          "execution_count": 25
        }
      ]
    },
    {
      "cell_type": "code",
      "source": [],
      "metadata": {
        "id": "xYuf7B3PKsGy"
      },
      "execution_count": null,
      "outputs": []
    },
    {
      "cell_type": "code",
      "source": [
        "def print_big(letter):\n",
        "    patterns ={1:'  *  ',2:' *  * ',3:'*    *',4:'*****',5:'****',6:'*',7:'*',8:'*  *',9:'*'}\n",
        "    alphabet = {'A':[1,2,4,3,3],'B':[5,3,5,3,5],'C':[4,9,9,9,4],'D':[5,3,3,3,5],'E':[4,9,4,9,4]}\n",
        "    for pattern in alphabet[letter.upper()]:\n",
        "        print(patterns[pattern])"
      ],
      "metadata": {
        "id": "665Lm7P9KsDy"
      },
      "execution_count": null,
      "outputs": []
    },
    {
      "cell_type": "code",
      "source": [],
      "metadata": {
        "id": "46K0xMdRYUt3"
      },
      "execution_count": null,
      "outputs": []
    },
    {
      "cell_type": "code",
      "source": [
        "print_big('a')"
      ],
      "metadata": {
        "colab": {
          "base_uri": "https://localhost:8080/"
        },
        "id": "bcSYdYr_KsAs",
        "outputId": "399136e0-d774-40f2-b0d7-e885a18d34d0"
      },
      "execution_count": null,
      "outputs": [
        {
          "output_type": "stream",
          "name": "stdout",
          "text": [
            "  *  \n",
            " *  * \n",
            "*****\n",
            "*    *\n",
            "*    *\n"
          ]
        }
      ]
    },
    {
      "cell_type": "code",
      "source": [
        "print_big('b')"
      ],
      "metadata": {
        "colab": {
          "base_uri": "https://localhost:8080/"
        },
        "id": "rQEejkUiYWyt",
        "outputId": "19c47c97-6c66-4e4f-cb4b-2dd0853bd805"
      },
      "execution_count": null,
      "outputs": [
        {
          "output_type": "stream",
          "name": "stdout",
          "text": [
            "****\n",
            "*    *\n",
            "****\n",
            "*    *\n",
            "****\n"
          ]
        }
      ]
    },
    {
      "cell_type": "code",
      "source": [
        "print_big('e')"
      ],
      "metadata": {
        "colab": {
          "base_uri": "https://localhost:8080/"
        },
        "id": "wmJtwu7OYWv2",
        "outputId": "7097f037-3590-44b5-fa95-dc2a50f4019d"
      },
      "execution_count": null,
      "outputs": [
        {
          "output_type": "stream",
          "name": "stdout",
          "text": [
            "*****\n",
            "*\n",
            "*****\n",
            "*\n",
            "*****\n"
          ]
        }
      ]
    },
    {
      "cell_type": "code",
      "source": [],
      "metadata": {
        "id": "ykMV1xJ7YWpC"
      },
      "execution_count": null,
      "outputs": []
    },
    {
      "cell_type": "code",
      "source": [
        "s=['apple','appLE','Apple']"
      ],
      "metadata": {
        "id": "vOUl_CVpKr2K"
      },
      "execution_count": null,
      "outputs": []
    },
    {
      "cell_type": "code",
      "source": [
        "def string_times(str, n):\n",
        "  result =\"\"\n",
        "  for i in range(n):\n",
        "    result += str\n",
        "  return result\n"
      ],
      "metadata": {
        "id": "c8kyrFBUYSHQ"
      },
      "execution_count": null,
      "outputs": []
    },
    {
      "cell_type": "code",
      "source": [
        "string_times('nancy',5)"
      ],
      "metadata": {
        "colab": {
          "base_uri": "https://localhost:8080/",
          "height": 36
        },
        "id": "AVcH4qRJoyAe",
        "outputId": "859c750c-083c-4c08-c7f1-0fc6b891c38b"
      },
      "execution_count": null,
      "outputs": [
        {
          "output_type": "execute_result",
          "data": {
            "text/plain": [
              "'nancynancynancynancynancy'"
            ],
            "application/vnd.google.colaboratory.intrinsic+json": {
              "type": "string"
            }
          },
          "metadata": {},
          "execution_count": 21
        }
      ]
    },
    {
      "cell_type": "code",
      "source": [
        "def sleep_in(weekday, vacation):\n",
        "  if not weekday or vacation:\n",
        "    return True\n",
        "  else:\n",
        "    return False"
      ],
      "metadata": {
        "id": "7xnoYmLdox9X"
      },
      "execution_count": null,
      "outputs": []
    },
    {
      "cell_type": "code",
      "source": [
        "sleep_in('Thursday','hyand')"
      ],
      "metadata": {
        "colab": {
          "base_uri": "https://localhost:8080/"
        },
        "id": "_8C34sFwox6m",
        "outputId": "a8173247-e18e-432f-f708-641cd5dc41fb"
      },
      "execution_count": null,
      "outputs": [
        {
          "output_type": "execute_result",
          "data": {
            "text/plain": [
              "True"
            ]
          },
          "metadata": {},
          "execution_count": 23
        }
      ]
    },
    {
      "cell_type": "code",
      "source": [
        "def monkey_trouble(a_smile, b_smile):\n",
        "  if a_smile and b_smile:\n",
        "    return True\n",
        "  if not a_smile and not b_smile:\n",
        "    return True\n",
        "  return False\n",
        " "
      ],
      "metadata": {
        "id": "RHWj3B-Gox2o"
      },
      "execution_count": null,
      "outputs": []
    },
    {
      "cell_type": "code",
      "source": [
        "monkey_trouble('monkey','zonkd')"
      ],
      "metadata": {
        "colab": {
          "base_uri": "https://localhost:8080/"
        },
        "id": "tWBhxwIhuAzR",
        "outputId": "3170d08a-4ab0-49a0-9c4e-81a8970cd1ac"
      },
      "execution_count": null,
      "outputs": [
        {
          "output_type": "execute_result",
          "data": {
            "text/plain": [
              "True"
            ]
          },
          "metadata": {},
          "execution_count": 25
        }
      ]
    },
    {
      "cell_type": "code",
      "source": [
        "def sum_double(a, b):\n",
        "  sum = a+b\n",
        " \n",
        "  if a==b:\n",
        "    sum = sum* 2\n",
        "  return sum\n",
        "  "
      ],
      "metadata": {
        "id": "f87zgHheuAvu"
      },
      "execution_count": null,
      "outputs": []
    },
    {
      "cell_type": "code",
      "source": [
        "sum_double(9, 9)"
      ],
      "metadata": {
        "colab": {
          "base_uri": "https://localhost:8080/"
        },
        "id": "Rw7Kba92uAsU",
        "outputId": "dcf0556a-68e5-4ba5-cbe1-fa9c16af47f2"
      },
      "execution_count": null,
      "outputs": [
        {
          "output_type": "execute_result",
          "data": {
            "text/plain": [
              "36"
            ]
          },
          "metadata": {},
          "execution_count": 27
        }
      ]
    },
    {
      "cell_type": "code",
      "source": [
        "def diff21(n):\n",
        "  if n<= 21:\n",
        "    return 21-n\n",
        "  else:\n",
        "    return (n-21)*2\n"
      ],
      "metadata": {
        "id": "CN3P71Q5uAnV"
      },
      "execution_count": null,
      "outputs": []
    },
    {
      "cell_type": "code",
      "source": [
        "diff21(48)"
      ],
      "metadata": {
        "colab": {
          "base_uri": "https://localhost:8080/"
        },
        "id": "E30y8OZ4uAkK",
        "outputId": "a9132712-1fd5-480b-fbf6-795ac4322bd5"
      },
      "execution_count": null,
      "outputs": [
        {
          "output_type": "execute_result",
          "data": {
            "text/plain": [
              "54"
            ]
          },
          "metadata": {},
          "execution_count": 29
        }
      ]
    },
    {
      "cell_type": "code",
      "source": [
        "def parrot_trouble(talking, hour):\n",
        "  return (talking and (hour < 7 or hour > 20))"
      ],
      "metadata": {
        "id": "IEstiH6BuAhG"
      },
      "execution_count": null,
      "outputs": []
    },
    {
      "cell_type": "code",
      "source": [
        "parrot_trouble('taklinkg',25)"
      ],
      "metadata": {
        "colab": {
          "base_uri": "https://localhost:8080/"
        },
        "id": "jeoMQ8rkuAcY",
        "outputId": "28d98bb7-78d6-4172-d50a-b27f584947e9"
      },
      "execution_count": null,
      "outputs": [
        {
          "output_type": "execute_result",
          "data": {
            "text/plain": [
              "True"
            ]
          },
          "metadata": {},
          "execution_count": 31
        }
      ]
    },
    {
      "cell_type": "code",
      "source": [
        "def makes10(a, b):\n",
        "  return (a ==10 or b==10 or a+b==10)"
      ],
      "metadata": {
        "id": "ZKl3oNQl6QaN"
      },
      "execution_count": null,
      "outputs": []
    },
    {
      "cell_type": "code",
      "source": [
        "makes10(5, 10)"
      ],
      "metadata": {
        "colab": {
          "base_uri": "https://localhost:8080/"
        },
        "id": "ZsRHfqf46QXc",
        "outputId": "8e143300-91b6-48d7-a637-b6d195a972d2"
      },
      "execution_count": null,
      "outputs": [
        {
          "output_type": "execute_result",
          "data": {
            "text/plain": [
              "True"
            ]
          },
          "metadata": {},
          "execution_count": 33
        }
      ]
    },
    {
      "cell_type": "code",
      "source": [
        "def near_hundred(n):\n",
        "  return ((abs(100-n) <=10 or abs(200-n)<=10))"
      ],
      "metadata": {
        "id": "WsA1UaOO6QUu"
      },
      "execution_count": null,
      "outputs": []
    },
    {
      "cell_type": "code",
      "source": [
        "def pos_neg(a, b, negative):\n",
        "  if negative:\n",
        "    return (a<0 and b<0)\n",
        "  else:\n",
        "    return ((a<0 and b>0) or (a>0 and b<0))\n"
      ],
      "metadata": {
        "id": "U--1URLM6QR-"
      },
      "execution_count": null,
      "outputs": []
    },
    {
      "cell_type": "code",
      "source": [
        "def not_string(str):\n",
        "  if len(str) >= 3 and str[:3]=='not':\n",
        "    return str\n",
        "  return 'not ' + str\n"
      ],
      "metadata": {
        "id": "BcY0HUAL6QL-"
      },
      "execution_count": null,
      "outputs": []
    },
    {
      "cell_type": "code",
      "source": [],
      "metadata": {
        "id": "Yn-nZwM26QIG"
      },
      "execution_count": null,
      "outputs": []
    }
  ]
}