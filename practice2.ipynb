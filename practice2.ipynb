{
  "nbformat": 4,
  "nbformat_minor": 0,
  "metadata": {
    "colab": {
      "provenance": [],
      "toc_visible": true,
      "authorship_tag": "ABX9TyNxnK2OhqNziQCsEFOesmyb",
      "include_colab_link": true
    },
    "kernelspec": {
      "name": "python3",
      "display_name": "Python 3"
    },
    "language_info": {
      "name": "python"
    }
  },
  "cells": [
    {
      "cell_type": "markdown",
      "metadata": {
        "id": "view-in-github",
        "colab_type": "text"
      },
      "source": [
        "<a href=\"https://colab.research.google.com/github/gimah/Allan/blob/master/practice2.ipynb\" target=\"_parent\"><img src=\"https://colab.research.google.com/assets/colab-badge.svg\" alt=\"Open In Colab\"/></a>"
      ]
    },
    {
      "cell_type": "markdown",
      "source": [
        "# While loop"
      ],
      "metadata": {
        "id": "myI8tiAXgN_6"
      }
    },
    {
      "cell_type": "code",
      "execution_count": null,
      "metadata": {
        "colab": {
          "base_uri": "https://localhost:8080/"
        },
        "id": "krJ5SsA_c3rI",
        "outputId": "8a7351e2-18d6-4a78-fdfe-df18f6e6e02f"
      },
      "outputs": [
        {
          "output_type": "stream",
          "name": "stdout",
          "text": [
            "The answer for the question is none\n"
          ]
        }
      ],
      "source": [
        "x = 50\n",
        "while x <10:\n",
        "    print(x)\n",
        "\n",
        "    x += 2\n",
        "else:\n",
        "    print(\"The answer for the question is none\")"
      ]
    },
    {
      "cell_type": "code",
      "source": [
        "i=[1,2,3]\n",
        "\n",
        "for ele in i:\n",
        "    pass\n",
        "\n",
        "print(\"do anything\")"
      ],
      "metadata": {
        "colab": {
          "base_uri": "https://localhost:8080/"
        },
        "id": "gmDhWGyqgNOG",
        "outputId": "263275bc-db32-4980-863a-13e91b24c7b9"
      },
      "execution_count": null,
      "outputs": [
        {
          "output_type": "stream",
          "name": "stdout",
          "text": [
            "do anything\n"
          ]
        }
      ]
    },
    {
      "cell_type": "code",
      "source": [
        "mystring=\"Elephantiasis\""
      ],
      "metadata": {
        "id": "ZP8nFfGigNKj"
      },
      "execution_count": null,
      "outputs": []
    },
    {
      "cell_type": "code",
      "source": [
        "for i in mystring:\n",
        "    if i=='a':\n",
        "        break\n",
        "    print(i)\n"
      ],
      "metadata": {
        "colab": {
          "base_uri": "https://localhost:8080/"
        },
        "id": "YwBrllMKgNHi",
        "outputId": "b0fcef9a-1230-40d8-8d35-b0f535241a76"
      },
      "execution_count": null,
      "outputs": [
        {
          "output_type": "stream",
          "name": "stdout",
          "text": [
            "E\n",
            "l\n",
            "e\n",
            "p\n",
            "h\n"
          ]
        }
      ]
    },
    {
      "cell_type": "code",
      "source": [
        "x = 0\n",
        "\n",
        "while x <10:\n",
        "    if x==5:\n",
        "        break\n",
        "    print(x)\n",
        "    x += 1\n"
      ],
      "metadata": {
        "colab": {
          "base_uri": "https://localhost:8080/"
        },
        "id": "oFlVKHWrgND0",
        "outputId": "fd88e621-04f6-45f4-94f7-104eeebb9047"
      },
      "execution_count": null,
      "outputs": [
        {
          "output_type": "stream",
          "name": "stdout",
          "text": [
            "0\n",
            "1\n",
            "2\n",
            "3\n",
            "4\n"
          ]
        }
      ]
    },
    {
      "cell_type": "code",
      "source": [
        "for i in enumerate('abc'):\n",
        "    print(i)"
      ],
      "metadata": {
        "colab": {
          "base_uri": "https://localhost:8080/"
        },
        "id": "ssNYNn4LgNA5",
        "outputId": "9168d0ee-0a80-4be1-e114-50c8547433ca"
      },
      "execution_count": null,
      "outputs": [
        {
          "output_type": "stream",
          "name": "stdout",
          "text": [
            "(0, 'a')\n",
            "(1, 'b')\n",
            "(2, 'c')\n"
          ]
        }
      ]
    },
    {
      "cell_type": "code",
      "source": [
        "li1=[1,2,3,4]\n",
        "li2=[5,6,7,8]\n",
        "\n",
        "list(zip(li1,li2))"
      ],
      "metadata": {
        "colab": {
          "base_uri": "https://localhost:8080/"
        },
        "id": "qPaEI3UIgM9q",
        "outputId": "57d85767-8131-4a32-ebc7-0f230ce303cb"
      },
      "execution_count": null,
      "outputs": [
        {
          "output_type": "execute_result",
          "data": {
            "text/plain": [
              "[(1, 5), (2, 6), (3, 7), (4, 8)]"
            ]
          },
          "metadata": {},
          "execution_count": 3
        }
      ]
    },
    {
      "cell_type": "code",
      "source": [
        "from random import shuffle\n"
      ],
      "metadata": {
        "id": "cdjgZvkWgM6h"
      },
      "execution_count": null,
      "outputs": []
    },
    {
      "cell_type": "code",
      "source": [
        "l1=[10,20,40,30,80,100]"
      ],
      "metadata": {
        "id": "z5MgdITF9pQK"
      },
      "execution_count": null,
      "outputs": []
    },
    {
      "cell_type": "code",
      "source": [
        "shuffle(l1)"
      ],
      "metadata": {
        "id": "EghFZ_619pNI"
      },
      "execution_count": null,
      "outputs": []
    },
    {
      "cell_type": "code",
      "source": [
        "l1"
      ],
      "metadata": {
        "colab": {
          "base_uri": "https://localhost:8080/"
        },
        "id": "qmwLoURP9pJ7",
        "outputId": "6bc4dc7d-0b9f-41b0-a834-736fb0119dc2"
      },
      "execution_count": null,
      "outputs": [
        {
          "output_type": "execute_result",
          "data": {
            "text/plain": [
              "[30, 80, 20, 10, 40, 100]"
            ]
          },
          "metadata": {},
          "execution_count": 7
        }
      ]
    },
    {
      "cell_type": "code",
      "source": [
        "from random import randint"
      ],
      "metadata": {
        "id": "a7JNqQDc9pGv"
      },
      "execution_count": null,
      "outputs": []
    },
    {
      "cell_type": "code",
      "source": [
        "randint(2,100)"
      ],
      "metadata": {
        "colab": {
          "base_uri": "https://localhost:8080/"
        },
        "id": "tI3jEwca9pDU",
        "outputId": "0bceb012-4ec7-44bb-d303-6bcf12a882fd"
      },
      "execution_count": null,
      "outputs": [
        {
          "output_type": "execute_result",
          "data": {
            "text/plain": [
              "42"
            ]
          },
          "metadata": {},
          "execution_count": 10
        }
      ]
    },
    {
      "cell_type": "code",
      "source": [
        "mystring =\"Hello world\""
      ],
      "metadata": {
        "id": "0PF2WR7X_zPY"
      },
      "execution_count": null,
      "outputs": []
    },
    {
      "cell_type": "code",
      "source": [
        "my = []\n",
        "for letter in mystring:\n",
        "    my.append(letter)\n",
        "\n",
        "\n"
      ],
      "metadata": {
        "id": "e2KHHEsJ_zMQ"
      },
      "execution_count": null,
      "outputs": []
    },
    {
      "cell_type": "code",
      "source": [
        "my"
      ],
      "metadata": {
        "colab": {
          "base_uri": "https://localhost:8080/"
        },
        "id": "JXQ-fqsk_zHu",
        "outputId": "9110e68f-f227-4658-f8d6-6089df0a3cdb"
      },
      "execution_count": null,
      "outputs": [
        {
          "output_type": "execute_result",
          "data": {
            "text/plain": [
              "['H', 'e', 'l', 'l', 'o', ' ', 'w', 'o', 'r', 'l', 'd']"
            ]
          },
          "metadata": {},
          "execution_count": 13
        }
      ]
    },
    {
      "cell_type": "code",
      "source": [
        "[num*2 for num in range(0,20)]"
      ],
      "metadata": {
        "colab": {
          "base_uri": "https://localhost:8080/"
        },
        "id": "d_N_XRp__zET",
        "outputId": "904f8559-e49d-47fc-a3af-b1e66ba3c006"
      },
      "execution_count": null,
      "outputs": [
        {
          "output_type": "execute_result",
          "data": {
            "text/plain": [
              "[0, 2, 4, 6, 8, 10, 12, 14, 16, 18, 20, 22, 24, 26, 28, 30, 32, 34, 36, 38]"
            ]
          },
          "metadata": {},
          "execution_count": 14
        }
      ]
    },
    {
      "cell_type": "code",
      "source": [
        "[num for num in 'wordList' if num.split() ]"
      ],
      "metadata": {
        "colab": {
          "base_uri": "https://localhost:8080/"
        },
        "id": "MUEDomXe_zBi",
        "outputId": "6f7c763a-62f5-4a3b-c8f3-aeb6b519ad82"
      },
      "execution_count": null,
      "outputs": [
        {
          "output_type": "execute_result",
          "data": {
            "text/plain": [
              "['w', 'o', 'r', 'd', 'L', 'i', 's', 't']"
            ]
          },
          "metadata": {},
          "execution_count": 31
        }
      ]
    },
    {
      "cell_type": "code",
      "source": [
        "for a in 'wordlist':\n",
        "    if a.split():\n",
        "     print(a)"
      ],
      "metadata": {
        "colab": {
          "base_uri": "https://localhost:8080/"
        },
        "id": "nnTYFpE1_y-j",
        "outputId": "24598286-08a6-4d56-af0f-e0bb8303537a"
      },
      "execution_count": null,
      "outputs": [
        {
          "output_type": "stream",
          "name": "stdout",
          "text": [
            "w\n",
            "o\n",
            "r\n",
            "d\n",
            "l\n",
            "i\n",
            "s\n",
            "t\n"
          ]
        }
      ]
    },
    {
      "cell_type": "code",
      "source": [
        "[num for num in range(0,20) if num%2==0]"
      ],
      "metadata": {
        "colab": {
          "base_uri": "https://localhost:8080/"
        },
        "id": "ysVrcfCw_y7b",
        "outputId": "b2e49261-c025-483d-c2d1-83459058db9d"
      },
      "execution_count": null,
      "outputs": [
        {
          "output_type": "execute_result",
          "data": {
            "text/plain": [
              "[0, 2, 4, 6, 8, 10, 12, 14, 16, 18]"
            ]
          },
          "metadata": {},
          "execution_count": 33
        }
      ]
    },
    {
      "cell_type": "code",
      "source": [
        "celcius = [0,32,40,50]"
      ],
      "metadata": {
        "id": "gBfNmfXq_y4X"
      },
      "execution_count": null,
      "outputs": []
    },
    {
      "cell_type": "code",
      "source": [
        "fahreheit = []\n",
        "\n",
        "for temp in celcius:\n",
        "    fahreheit.append((9/5)*temp + 32)"
      ],
      "metadata": {
        "id": "2S2AAfgm_y1S"
      },
      "execution_count": null,
      "outputs": []
    },
    {
      "cell_type": "code",
      "source": [
        "fahreheit"
      ],
      "metadata": {
        "colab": {
          "base_uri": "https://localhost:8080/"
        },
        "id": "tyXDN4Pa_yyL",
        "outputId": "9d32c46c-91c5-42a9-998a-af927796f55e"
      },
      "execution_count": null,
      "outputs": [
        {
          "output_type": "execute_result",
          "data": {
            "text/plain": [
              "[32.0, 89.6, 104.0, 122.0]"
            ]
          },
          "metadata": {},
          "execution_count": 39
        }
      ]
    },
    {
      "cell_type": "code",
      "source": [
        "fahreheit=[(9/5*temp)+32 for temp in celcius]"
      ],
      "metadata": {
        "id": "QTNRRp5b_yvP"
      },
      "execution_count": null,
      "outputs": []
    },
    {
      "cell_type": "code",
      "source": [
        "fahreheit"
      ],
      "metadata": {
        "colab": {
          "base_uri": "https://localhost:8080/"
        },
        "id": "ozmmDMxv_yrv",
        "outputId": "f798a3ec-e395-4c5e-ac59-d39cbc49a9cb"
      },
      "execution_count": null,
      "outputs": [
        {
          "output_type": "execute_result",
          "data": {
            "text/plain": [
              "[32.0, 89.6, 104.0, 122.0]"
            ]
          },
          "metadata": {},
          "execution_count": 41
        }
      ]
    },
    {
      "cell_type": "code",
      "source": [
        "'mykey' in {'mykey':245}"
      ],
      "metadata": {
        "colab": {
          "base_uri": "https://localhost:8080/"
        },
        "id": "agwDZeuY_yom",
        "outputId": "a30334e5-27cd-407a-dab1-d64b987a1e23"
      },
      "execution_count": null,
      "outputs": [
        {
          "output_type": "execute_result",
          "data": {
            "text/plain": [
              "True"
            ]
          },
          "metadata": {},
          "execution_count": 1
        }
      ]
    },
    {
      "cell_type": "code",
      "source": [
        "d = {'mykey':245}"
      ],
      "metadata": {
        "id": "tGqD_3zf_yk7"
      },
      "execution_count": null,
      "outputs": []
    },
    {
      "cell_type": "code",
      "source": [
        "245 in d.values()"
      ],
      "metadata": {
        "colab": {
          "base_uri": "https://localhost:8080/"
        },
        "id": "2mWlAbSaGBtm",
        "outputId": "57def1f5-4c84-46f6-eeb6-08912b60cdf5"
      },
      "execution_count": null,
      "outputs": [
        {
          "output_type": "execute_result",
          "data": {
            "text/plain": [
              "True"
            ]
          },
          "metadata": {},
          "execution_count": 4
        }
      ]
    },
    {
      "cell_type": "code",
      "source": [
        "2 in [2,3,5,7]"
      ],
      "metadata": {
        "colab": {
          "base_uri": "https://localhost:8080/"
        },
        "id": "KcNZv2LyGBqt",
        "outputId": "4a5de202-c18e-4a88-cfaf-3e74161622e0"
      },
      "execution_count": null,
      "outputs": [
        {
          "output_type": "execute_result",
          "data": {
            "text/plain": [
              "True"
            ]
          },
          "metadata": {},
          "execution_count": 5
        }
      ]
    },
    {
      "cell_type": "code",
      "source": [
        "max([2,3,4,5])"
      ],
      "metadata": {
        "colab": {
          "base_uri": "https://localhost:8080/"
        },
        "id": "5Y8uaFRVGBjW",
        "outputId": "098b6bf4-bec7-4cc9-e8fa-ba041817a4fe"
      },
      "execution_count": null,
      "outputs": [
        {
          "output_type": "execute_result",
          "data": {
            "text/plain": [
              "5"
            ]
          },
          "metadata": {},
          "execution_count": 6
        }
      ]
    },
    {
      "cell_type": "code",
      "source": [
        "mystring=\"The wing of the gospel is strong for all\"\n",
        "\n",
        "for ele in mystring.split():\n",
        "    print(ele)"
      ],
      "metadata": {
        "colab": {
          "base_uri": "https://localhost:8080/"
        },
        "id": "OhXA1MxzGBfc",
        "outputId": "d0356119-b95b-4dd2-ee6f-11d393bdff67"
      },
      "execution_count": null,
      "outputs": [
        {
          "output_type": "stream",
          "name": "stdout",
          "text": [
            "The\n",
            "wing\n",
            "of\n",
            "the\n",
            "gospel\n",
            "is\n",
            "strong\n",
            "for\n",
            "all\n"
          ]
        }
      ]
    },
    {
      "cell_type": "code",
      "source": [
        "element = [2,5,9,10,15]\n",
        "li=[]\n",
        "\n",
        "for i in element:\n",
        "    li.append(i**2)"
      ],
      "metadata": {
        "id": "nczZ91IkGBcL"
      },
      "execution_count": null,
      "outputs": []
    },
    {
      "cell_type": "code",
      "source": [
        "li"
      ],
      "metadata": {
        "colab": {
          "base_uri": "https://localhost:8080/"
        },
        "id": "CpnK9dvEGBX2",
        "outputId": "7e526931-d4fa-42de-8f03-91518d46f960"
      },
      "execution_count": null,
      "outputs": [
        {
          "output_type": "execute_result",
          "data": {
            "text/plain": [
              "[4, 25, 81, 100, 225]"
            ]
          },
          "metadata": {},
          "execution_count": 14
        }
      ]
    },
    {
      "cell_type": "code",
      "source": [
        "mylist =[1,2,3,4,5,6]"
      ],
      "metadata": {
        "id": "OpuYROJNT7L_"
      },
      "execution_count": null,
      "outputs": []
    },
    {
      "cell_type": "code",
      "source": [
        "mylist.insert(2,10)"
      ],
      "metadata": {
        "id": "XqaQgqC0T7JF"
      },
      "execution_count": null,
      "outputs": []
    },
    {
      "cell_type": "code",
      "source": [
        "mylist"
      ],
      "metadata": {
        "colab": {
          "base_uri": "https://localhost:8080/"
        },
        "id": "6Agjf5UYT7GB",
        "outputId": "191904fc-c167-4183-a242-7c1cd4a0f5c1"
      },
      "execution_count": null,
      "outputs": [
        {
          "output_type": "execute_result",
          "data": {
            "text/plain": [
              "[1, 2, 10, 3, 4, 5, 6]"
            ]
          },
          "metadata": {},
          "execution_count": 17
        }
      ]
    },
    {
      "cell_type": "markdown",
      "source": [
        "# Fibonnacci Series"
      ],
      "metadata": {
        "id": "WgRfquw_hWpN"
      }
    },
    {
      "cell_type": "code",
      "source": [
        "a, b = 0, 1\n",
        "\n",
        "while a< 10:\n",
        "    print(a)\n",
        "    a, b = b, a+b"
      ],
      "metadata": {
        "colab": {
          "base_uri": "https://localhost:8080/"
        },
        "id": "hKXNGQLrT7Ck",
        "outputId": "90ae19ec-2cac-410d-d5b9-a7e7dd9fbb46"
      },
      "execution_count": null,
      "outputs": [
        {
          "output_type": "stream",
          "name": "stdout",
          "text": [
            "0\n",
            "1\n",
            "1\n",
            "2\n",
            "3\n",
            "5\n",
            "8\n"
          ]
        }
      ]
    },
    {
      "cell_type": "code",
      "source": [
        "x = int(input(\"Please enter the integer: \"))\n",
        "\n",
        "if x < 0:\n",
        "    x=0\n",
        "    print(\"Negative changed to zero\")\n",
        "elif x ==0:\n",
        "    print(\"Zero\")\n",
        "elif x==1:\n",
        "    print(\"Single\")\n",
        "else:\n",
        "    print(\"More\")"
      ],
      "metadata": {
        "colab": {
          "base_uri": "https://localhost:8080/"
        },
        "id": "RY_xE-YChVpz",
        "outputId": "89173786-26f7-43c8-edd5-3fad6fbc3e19"
      },
      "execution_count": null,
      "outputs": [
        {
          "output_type": "stream",
          "name": "stdout",
          "text": [
            "Please enter the integer: 42\n",
            "More\n"
          ]
        }
      ]
    },
    {
      "cell_type": "code",
      "source": [
        "words = ['cats','elephants','lion']\n",
        "\n",
        "for word in words:\n",
        "    print(word, len(word))"
      ],
      "metadata": {
        "colab": {
          "base_uri": "https://localhost:8080/"
        },
        "id": "Nt1LEja_hVm9",
        "outputId": "b831c023-7ed3-4faa-fa09-0cd31d4833c8"
      },
      "execution_count": null,
      "outputs": [
        {
          "output_type": "stream",
          "name": "stdout",
          "text": [
            "cats 4\n",
            "elephants 9\n",
            "lion 4\n"
          ]
        }
      ]
    },
    {
      "cell_type": "code",
      "source": [
        "for n in range(2, 10):\n",
        "    for x in range(2, n):\n",
        "        if n%x==0:\n",
        "            #print(n, '=', x, '*',n//x)\n",
        "            print(x,'*',n//x,'=',n)"
      ],
      "metadata": {
        "colab": {
          "base_uri": "https://localhost:8080/"
        },
        "id": "eohAL0c1hVkE",
        "outputId": "27e3d3cb-2ba5-4a7c-85da-27381ce320d8"
      },
      "execution_count": null,
      "outputs": [
        {
          "output_type": "stream",
          "name": "stdout",
          "text": [
            "2 * 2 = 4\n",
            "2 * 3 = 6\n",
            "3 * 2 = 6\n",
            "2 * 4 = 8\n",
            "4 * 2 = 8\n",
            "3 * 3 = 9\n"
          ]
        }
      ]
    },
    {
      "cell_type": "code",
      "source": [
        "def name_of_function(name):\n",
        "    return \"Hello \" + name"
      ],
      "metadata": {
        "id": "Xx20eXf3hVhS"
      },
      "execution_count": null,
      "outputs": []
    },
    {
      "cell_type": "code",
      "source": [
        "name_of_function(\"Henry\")"
      ],
      "metadata": {
        "colab": {
          "base_uri": "https://localhost:8080/",
          "height": 36
        },
        "id": "qXRruCushVeQ",
        "outputId": "e2897a5b-5d19-4bc8-b416-dc56d9eb3749"
      },
      "execution_count": null,
      "outputs": [
        {
          "output_type": "execute_result",
          "data": {
            "text/plain": [
              "'Hello Henry'"
            ],
            "application/vnd.google.colaboratory.intrinsic+json": {
              "type": "string"
            }
          },
          "metadata": {},
          "execution_count": 32
        }
      ]
    },
    {
      "cell_type": "code",
      "source": [
        "def my_func(num1):\n",
        "    return num1%2==0\n",
        "    \n",
        "    \n"
      ],
      "metadata": {
        "id": "NV0NAKpGsh0U"
      },
      "execution_count": null,
      "outputs": []
    },
    {
      "cell_type": "code",
      "source": [
        "my_func(81)"
      ],
      "metadata": {
        "colab": {
          "base_uri": "https://localhost:8080/"
        },
        "id": "rg21fFPmshxV",
        "outputId": "f0e39161-8e73-4b67-d960-70542db0d74a"
      },
      "execution_count": null,
      "outputs": [
        {
          "output_type": "execute_result",
          "data": {
            "text/plain": [
              "False"
            ]
          },
          "metadata": {},
          "execution_count": 34
        }
      ]
    },
    {
      "cell_type": "code",
      "source": [
        "def check_even_list(number):\n",
        "    for n in number:\n",
        "        if n%2==0:\n",
        "            return True\n",
        "        else:\n",
        "             pass\n",
        "    return False"
      ],
      "metadata": {
        "id": "VnPHmhS1shuj"
      },
      "execution_count": null,
      "outputs": []
    },
    {
      "cell_type": "code",
      "source": [
        "check_even_list([1,3,5,9])"
      ],
      "metadata": {
        "colab": {
          "base_uri": "https://localhost:8080/"
        },
        "id": "BH-dphwT0_P1",
        "outputId": "f011139a-d58b-4d48-f1a6-dff666b821de"
      },
      "execution_count": null,
      "outputs": [
        {
          "output_type": "execute_result",
          "data": {
            "text/plain": [
              "False"
            ]
          },
          "metadata": {},
          "execution_count": 45
        }
      ]
    },
    {
      "cell_type": "code",
      "source": [],
      "metadata": {
        "id": "TO7pOpRZ0_Dk"
      },
      "execution_count": null,
      "outputs": []
    },
    {
      "cell_type": "code",
      "source": [
        "check_even_list([2,5,8,7])"
      ],
      "metadata": {
        "colab": {
          "base_uri": "https://localhost:8080/"
        },
        "id": "SFC-BTcmshrg",
        "outputId": "e2aabcbe-e64d-44d8-ee8e-b0c33442dade"
      },
      "execution_count": null,
      "outputs": [
        {
          "output_type": "execute_result",
          "data": {
            "text/plain": [
              "True"
            ]
          },
          "metadata": {},
          "execution_count": 44
        }
      ]
    },
    {
      "cell_type": "code",
      "source": [
        "lst =[1,2,3,4]"
      ],
      "metadata": {
        "id": "xGXgFqd4shog"
      },
      "execution_count": null,
      "outputs": []
    },
    {
      "cell_type": "code",
      "source": [
        "lst.append(5)"
      ],
      "metadata": {
        "id": "THnwbRhhz5oc"
      },
      "execution_count": null,
      "outputs": []
    },
    {
      "cell_type": "code",
      "source": [
        "lst"
      ],
      "metadata": {
        "colab": {
          "base_uri": "https://localhost:8080/"
        },
        "id": "rkc_UvzIz5lF",
        "outputId": "dc9a92e8-8eb7-44de-d088-21e8b5786a65"
      },
      "execution_count": null,
      "outputs": [
        {
          "output_type": "execute_result",
          "data": {
            "text/plain": [
              "[1, 2, 3, 4, 5]"
            ]
          },
          "metadata": {},
          "execution_count": 42
        }
      ]
    },
    {
      "cell_type": "code",
      "source": [
        "def check_even_num(number_list):\n",
        "\n",
        "    number = []\n",
        "    for num in number_list:\n",
        "        if num%2==0:\n",
        "            number.append(num)\n",
        "    return number"
      ],
      "metadata": {
        "id": "c1Sv84GUz5iQ"
      },
      "execution_count": null,
      "outputs": []
    },
    {
      "cell_type": "code",
      "source": [
        "check_even_num([2,3,5,7,8,9])"
      ],
      "metadata": {
        "colab": {
          "base_uri": "https://localhost:8080/"
        },
        "id": "dC8osLu_z5f7",
        "outputId": "2247170a-6df7-496d-d522-719761059007"
      },
      "execution_count": null,
      "outputs": [
        {
          "output_type": "execute_result",
          "data": {
            "text/plain": [
              "[2, 8]"
            ]
          },
          "metadata": {},
          "execution_count": 47
        }
      ]
    },
    {
      "cell_type": "markdown",
      "source": [
        "## Tuples unpacking "
      ],
      "metadata": {
        "id": "gZOhfvJ67x5q"
      }
    },
    {
      "cell_type": "code",
      "source": [
        "sales_items =[('woodrobe',500),('television',200),('bed',100)]\n",
        "\n"
      ],
      "metadata": {
        "id": "n4je63KCz5c1"
      },
      "execution_count": null,
      "outputs": []
    },
    {
      "cell_type": "code",
      "source": [
        "def sales_check(sales_items):\n",
        "    sales_max = 0\n",
        "    items =''\n",
        "    for item,price in sales_items:\n",
        "        if price > sales_max:\n",
        "            sales_max = price\n",
        "            items = item\n",
        "        else:\n",
        "            pass\n",
        "    return (sales_max,items)"
      ],
      "metadata": {
        "id": "OeoEVpS3z5aw"
      },
      "execution_count": null,
      "outputs": []
    },
    {
      "cell_type": "code",
      "source": [
        "sales_check(sales_items)"
      ],
      "metadata": {
        "colab": {
          "base_uri": "https://localhost:8080/"
        },
        "id": "acz56wH2z5XZ",
        "outputId": "3af422b4-fda8-4234-cec2-62e1a33cdb98"
      },
      "execution_count": null,
      "outputs": [
        {
          "output_type": "execute_result",
          "data": {
            "text/plain": [
              "(500, 'woodrobe')"
            ]
          },
          "metadata": {},
          "execution_count": 53
        }
      ]
    },
    {
      "cell_type": "code",
      "source": [
        "result = sales_check(sales_items)"
      ],
      "metadata": {
        "id": "U2OQGjZGz5Ua"
      },
      "execution_count": null,
      "outputs": []
    },
    {
      "cell_type": "code",
      "source": [
        "result"
      ],
      "metadata": {
        "colab": {
          "base_uri": "https://localhost:8080/"
        },
        "id": "eXtbDUX7z5Rg",
        "outputId": "3a039595-71f2-4f67-e142-f2df905e5498"
      },
      "execution_count": null,
      "outputs": [
        {
          "output_type": "execute_result",
          "data": {
            "text/plain": [
              "(500, 'woodrobe')"
            ]
          },
          "metadata": {},
          "execution_count": 55
        }
      ]
    },
    {
      "cell_type": "code",
      "source": [
        "name,price,location = sales_check(sales_items)"
      ],
      "metadata": {
        "colab": {
          "base_uri": "https://localhost:8080/",
          "height": 165
        },
        "id": "TE9f_Lbnz5O1",
        "outputId": "d36cc5a6-4e7a-4825-8763-848a3f17f1b6"
      },
      "execution_count": null,
      "outputs": [
        {
          "output_type": "error",
          "ename": "ValueError",
          "evalue": "ignored",
          "traceback": [
            "\u001b[0;31m---------------------------------------------------------------------------\u001b[0m",
            "\u001b[0;31mValueError\u001b[0m                                Traceback (most recent call last)",
            "\u001b[0;32m<ipython-input-56-458e1ad83154>\u001b[0m in \u001b[0;36m<cell line: 1>\u001b[0;34m()\u001b[0m\n\u001b[0;32m----> 1\u001b[0;31m \u001b[0mname\u001b[0m\u001b[0;34m,\u001b[0m\u001b[0mprice\u001b[0m\u001b[0;34m,\u001b[0m\u001b[0mlocation\u001b[0m \u001b[0;34m=\u001b[0m \u001b[0msales_check\u001b[0m\u001b[0;34m(\u001b[0m\u001b[0msales_items\u001b[0m\u001b[0;34m)\u001b[0m\u001b[0;34m\u001b[0m\u001b[0;34m\u001b[0m\u001b[0m\n\u001b[0m",
            "\u001b[0;31mValueError\u001b[0m: not enough values to unpack (expected 3, got 2)"
          ]
        }
      ]
    },
    {
      "cell_type": "code",
      "source": [
        "def myfunc(*args):\n",
        "    return sum(args)\n"
      ],
      "metadata": {
        "id": "YCFG5PBAz5MI"
      },
      "execution_count": null,
      "outputs": []
    },
    {
      "cell_type": "code",
      "source": [
        "myfunc(4,5,8,9,10)"
      ],
      "metadata": {
        "colab": {
          "base_uri": "https://localhost:8080/"
        },
        "id": "9hLwJGFdshkz",
        "outputId": "8c8a03f0-7cae-43dd-8e49-d1c6b8a73323"
      },
      "execution_count": null,
      "outputs": [
        {
          "output_type": "execute_result",
          "data": {
            "text/plain": [
              "36"
            ]
          },
          "metadata": {},
          "execution_count": 2
        }
      ]
    },
    {
      "cell_type": "code",
      "source": [
        "def myfunc1(*args):\n",
        "    for items in args:\n",
        "        print(items)"
      ],
      "metadata": {
        "id": "6sNWZ68s5EE3"
      },
      "execution_count": null,
      "outputs": []
    },
    {
      "cell_type": "code",
      "source": [
        "myfunc1(5,8,9,7,10)"
      ],
      "metadata": {
        "colab": {
          "base_uri": "https://localhost:8080/"
        },
        "id": "VsCUnLIy5ECh",
        "outputId": "3fd49cb1-7746-4a44-fae3-d36104d3896f"
      },
      "execution_count": null,
      "outputs": [
        {
          "output_type": "stream",
          "name": "stdout",
          "text": [
            "5\n",
            "8\n",
            "9\n",
            "7\n",
            "10\n"
          ]
        }
      ]
    },
    {
      "cell_type": "code",
      "source": [
        "def myfunc2(**kwargs):\n",
        "    print(kwargs)\n",
        "    if 'fruits' in kwargs:\n",
        "        print(f'my fruits of choice is {kwargs}')\n",
        "    else:\n",
        "        print('I did not have one')"
      ],
      "metadata": {
        "id": "z_b1oxkD5D_W"
      },
      "execution_count": null,
      "outputs": []
    },
    {
      "cell_type": "code",
      "source": [
        "myfunc2(fruits='apple', veggie='tomato')"
      ],
      "metadata": {
        "colab": {
          "base_uri": "https://localhost:8080/"
        },
        "id": "9pY857Ar5D8y",
        "outputId": "f481d981-d261-4af9-eb64-5b8061871e43"
      },
      "execution_count": null,
      "outputs": [
        {
          "output_type": "stream",
          "name": "stdout",
          "text": [
            "{'fruits': 'apple', 'veggie': 'tomato'}\n",
            "my fruits of choice is {'fruits': 'apple', 'veggie': 'tomato'}\n"
          ]
        }
      ]
    },
    {
      "cell_type": "code",
      "source": [
        "def myfunc3(*args,**kwargs):\n",
        "    print(args)\n",
        "    print(kwargs)\n",
        "    print('I would like to have {}  {}'.format(args[0], kwargs['fruits']))"
      ],
      "metadata": {
        "id": "gvm3zMqW5D6V"
      },
      "execution_count": null,
      "outputs": []
    },
    {
      "cell_type": "code",
      "source": [
        "myfunc3(20,10,11, food='salad',veggie='garden eggs',fruits='mangoes')"
      ],
      "metadata": {
        "colab": {
          "base_uri": "https://localhost:8080/"
        },
        "id": "rEGwx2ze5D23",
        "outputId": "f8d19282-2f6b-4843-8d0d-1c1ec68b14e2"
      },
      "execution_count": null,
      "outputs": [
        {
          "output_type": "stream",
          "name": "stdout",
          "text": [
            "(20, 10, 11)\n",
            "{'food': 'salad', 'veggie': 'garden eggs', 'fruits': 'mangoes'}\n",
            "I would like to have 20  mangoes\n"
          ]
        }
      ]
    },
    {
      "cell_type": "code",
      "source": [
        "def lesser_of_two_evens(a,b):\n",
        "    if a%2==0 and b%2==0:\n",
        "        # Both are even\n",
        "        if a<b:\n",
        "            result = a\n",
        "        else:\n",
        "            result = b\n",
        "            # One or Both are odd\n",
        "    else:\n",
        "        if a>b:\n",
        "            result = a\n",
        "        else:\n",
        "            result = b\n",
        "    return result"
      ],
      "metadata": {
        "id": "J0AQZTfx5Dz2"
      },
      "execution_count": null,
      "outputs": []
    },
    {
      "cell_type": "code",
      "source": [
        "lesser_of_two_evens(3,7)"
      ],
      "metadata": {
        "colab": {
          "base_uri": "https://localhost:8080/"
        },
        "id": "9i5sUcduEAnH",
        "outputId": "873e6f2d-ed6f-4a37-ba67-d763c0f05a51"
      },
      "execution_count": null,
      "outputs": [
        {
          "output_type": "execute_result",
          "data": {
            "text/plain": [
              "7"
            ]
          },
          "metadata": {},
          "execution_count": 12
        }
      ]
    },
    {
      "cell_type": "code",
      "source": [
        "def lesser_of_two_even(a,b):\n",
        "    if a%2==0 and b%2==0:\n",
        "        return min(a,b)\n",
        "    else:\n",
        "        return max(a,b)\n",
        "    "
      ],
      "metadata": {
        "id": "QKIpfryNEAj7"
      },
      "execution_count": null,
      "outputs": []
    },
    {
      "cell_type": "code",
      "source": [
        "lesser_of_two_even(5,7)"
      ],
      "metadata": {
        "colab": {
          "base_uri": "https://localhost:8080/"
        },
        "id": "6M4_IQ8oEAgz",
        "outputId": "71f701f6-b3f6-4fb7-bba7-5a015e7b6e38"
      },
      "execution_count": null,
      "outputs": [
        {
          "output_type": "execute_result",
          "data": {
            "text/plain": [
              "7"
            ]
          },
          "metadata": {},
          "execution_count": 30
        }
      ]
    },
    {
      "cell_type": "code",
      "source": [
        "def animal_crackers(text):\n",
        "    wordlist = text.lower().split()\n",
        "    \n",
        "\n",
        "    first = wordlist[0]\n",
        "    second = wordlist[1]\n",
        "    return first[0]==second[0]"
      ],
      "metadata": {
        "id": "lV7giGy5EAdE"
      },
      "execution_count": null,
      "outputs": []
    },
    {
      "cell_type": "code",
      "source": [
        "animal_crackers('Animal Crackers')"
      ],
      "metadata": {
        "colab": {
          "base_uri": "https://localhost:8080/"
        },
        "id": "zRXa-kY0dHI_",
        "outputId": "9fd34dfe-2887-4cda-bc84-403a3a728901"
      },
      "execution_count": null,
      "outputs": [
        {
          "output_type": "execute_result",
          "data": {
            "text/plain": [
              "False"
            ]
          },
          "metadata": {},
          "execution_count": 2
        }
      ]
    },
    {
      "cell_type": "code",
      "source": [
        "animal_crackers('lovers Lonely')"
      ],
      "metadata": {
        "colab": {
          "base_uri": "https://localhost:8080/"
        },
        "id": "TGWXUaaSdHFV",
        "outputId": "b4c0a1f3-87a4-4081-9e11-3abbd1710088"
      },
      "execution_count": null,
      "outputs": [
        {
          "output_type": "stream",
          "name": "stdout",
          "text": [
            "['lovers', 'lonely']\n"
          ]
        },
        {
          "output_type": "execute_result",
          "data": {
            "text/plain": [
              "True"
            ]
          },
          "metadata": {},
          "execution_count": 5
        }
      ]
    },
    {
      "cell_type": "code",
      "source": [
        "def makes_twenty(n1,n2):\n",
        "    if n1 + n2==20 or n1==20 or n2==20:\n",
        "        return True\n",
        "    else:\n",
        "        return False\n"
      ],
      "metadata": {
        "id": "xBUbi03EdHB_"
      },
      "execution_count": null,
      "outputs": []
    },
    {
      "cell_type": "code",
      "source": [
        "makes_twenty(40,10)"
      ],
      "metadata": {
        "colab": {
          "base_uri": "https://localhost:8080/"
        },
        "id": "kCxBXg6idG-Y",
        "outputId": "1ed07e07-e086-46a6-b140-efaa2f25fa35"
      },
      "execution_count": null,
      "outputs": [
        {
          "output_type": "execute_result",
          "data": {
            "text/plain": [
              "False"
            ]
          },
          "metadata": {},
          "execution_count": 10
        }
      ]
    },
    {
      "cell_type": "code",
      "source": [
        "def old_macdonald(name):\n",
        "    first_letter = name[0].upper()\n",
        "    middle_letter = name[1:3]\n",
        "    middle_letter1 = name[3].upper()\n",
        "    last_letter = name[4:]\n",
        "    \n",
        "    return first_letter+middle_letter+middle_letter1+last_letter\n",
        "    \n",
        "\n"
      ],
      "metadata": {
        "id": "Sk9Jau4LdG6-"
      },
      "execution_count": null,
      "outputs": []
    },
    {
      "cell_type": "code",
      "source": [
        "old_macdonald('macdonald')"
      ],
      "metadata": {
        "colab": {
          "base_uri": "https://localhost:8080/",
          "height": 36
        },
        "id": "vzgikqDEHnCT",
        "outputId": "a122df56-60a9-4ea8-afa1-05117ec15acb"
      },
      "execution_count": null,
      "outputs": [
        {
          "output_type": "execute_result",
          "data": {
            "text/plain": [
              "'MacDonald'"
            ],
            "application/vnd.google.colaboratory.intrinsic+json": {
              "type": "string"
            }
          },
          "metadata": {},
          "execution_count": 36
        }
      ]
    },
    {
      "cell_type": "code",
      "source": [
        "def macdonald(name):\n",
        "    first_half = name[:3].capitalize()\n",
        "    second_half = name[3:].capitalize()\n",
        "    return first_half+second_half"
      ],
      "metadata": {
        "id": "jP_F2hLhHm_C"
      },
      "execution_count": null,
      "outputs": []
    },
    {
      "cell_type": "code",
      "source": [
        "macdonald('macdonald')"
      ],
      "metadata": {
        "colab": {
          "base_uri": "https://localhost:8080/",
          "height": 36
        },
        "id": "ZpM1RT89HmzQ",
        "outputId": "e9b2d5a5-aa12-40f1-c9dc-d07306e513d0"
      },
      "execution_count": null,
      "outputs": [
        {
          "output_type": "execute_result",
          "data": {
            "text/plain": [
              "'MacDonald'"
            ],
            "application/vnd.google.colaboratory.intrinsic+json": {
              "type": "string"
            }
          },
          "metadata": {},
          "execution_count": 38
        }
      ]
    },
    {
      "cell_type": "code",
      "source": [
        "def master_yoda(text):\n",
        "    return ' '.join(text.split()[::-1])"
      ],
      "metadata": {
        "id": "u4wU7pQLHmwo"
      },
      "execution_count": null,
      "outputs": []
    },
    {
      "cell_type": "code",
      "source": [
        "master_yoda('I am a joyful winner')"
      ],
      "metadata": {
        "colab": {
          "base_uri": "https://localhost:8080/",
          "height": 36
        },
        "id": "N4pXAMkGHmt5",
        "outputId": "dfbd3787-d223-4a91-a481-4fb391294dee"
      },
      "execution_count": null,
      "outputs": [
        {
          "output_type": "execute_result",
          "data": {
            "text/plain": [
              "'winner joyful a am I'"
            ],
            "application/vnd.google.colaboratory.intrinsic+json": {
              "type": "string"
            }
          },
          "metadata": {},
          "execution_count": 4
        }
      ]
    },
    {
      "cell_type": "code",
      "source": [
        "master_yoda('we are ready come home')"
      ],
      "metadata": {
        "colab": {
          "base_uri": "https://localhost:8080/",
          "height": 36
        },
        "id": "F6-ZQa3dHmrK",
        "outputId": "1f158316-2d0f-4bbe-a034-1e4c09a0c43e"
      },
      "execution_count": null,
      "outputs": [
        {
          "output_type": "execute_result",
          "data": {
            "text/plain": [
              "'home come ready are we'"
            ],
            "application/vnd.google.colaboratory.intrinsic+json": {
              "type": "string"
            }
          },
          "metadata": {},
          "execution_count": 5
        }
      ]
    },
    {
      "cell_type": "code",
      "source": [
        "def almost_there(n):\n",
        "    return(abs(100-n)<=10) or (abs(200-n)<=10)"
      ],
      "metadata": {
        "id": "hkXsltIGHmoO"
      },
      "execution_count": null,
      "outputs": []
    },
    {
      "cell_type": "code",
      "source": [
        "almost_there(50)"
      ],
      "metadata": {
        "colab": {
          "base_uri": "https://localhost:8080/"
        },
        "id": "Q-OLJMV2Hmlr",
        "outputId": "170a9443-57d5-4c3a-b324-f14f40eaae6c"
      },
      "execution_count": null,
      "outputs": [
        {
          "output_type": "execute_result",
          "data": {
            "text/plain": [
              "False"
            ]
          },
          "metadata": {},
          "execution_count": 7
        }
      ]
    },
    {
      "cell_type": "code",
      "source": [
        "almost_there(150)"
      ],
      "metadata": {
        "colab": {
          "base_uri": "https://localhost:8080/"
        },
        "id": "-I9IVrdgHmi2",
        "outputId": "4e743d21-2509-4304-cc90-ea9e4e69b5dc"
      },
      "execution_count": null,
      "outputs": [
        {
          "output_type": "execute_result",
          "data": {
            "text/plain": [
              "False"
            ]
          },
          "metadata": {},
          "execution_count": 8
        }
      ]
    },
    {
      "cell_type": "code",
      "source": [
        "almost_there(205)"
      ],
      "metadata": {
        "colab": {
          "base_uri": "https://localhost:8080/"
        },
        "id": "U6-eDXaDvqsJ",
        "outputId": "d054ec08-3efb-4e7a-a9c5-baec31f35ec6"
      },
      "execution_count": null,
      "outputs": [
        {
          "output_type": "execute_result",
          "data": {
            "text/plain": [
              "True"
            ]
          },
          "metadata": {},
          "execution_count": 9
        }
      ]
    },
    {
      "cell_type": "markdown",
      "source": [
        "Examples\n",
        "\n",
        "has_33([1, 3, 3]) → True\n",
        "\n",
        "has_33([1, 3, 1, 3]) → False\n",
        "\n",
        "has_33([3, 1, 3]) → False"
      ],
      "metadata": {
        "id": "E_PNjwkZygvF"
      }
    },
    {
      "cell_type": "code",
      "source": [
        "def find_33(nums):\n",
        "    for i in range(0,len(nums)-1):\n",
        "        if nums[i]==3 and nums[i+1]==3:\n",
        "            return True\n",
        "    return False\n",
        "\n"
      ],
      "metadata": {
        "id": "ddDIBmohvqpR"
      },
      "execution_count": null,
      "outputs": []
    },
    {
      "cell_type": "code",
      "source": [
        "find_33([1,3,3,1])"
      ],
      "metadata": {
        "colab": {
          "base_uri": "https://localhost:8080/"
        },
        "id": "8Zvgql1Rvqlt",
        "outputId": "86efe6c6-8282-4de5-f235-2927edf79f58"
      },
      "execution_count": null,
      "outputs": [
        {
          "output_type": "execute_result",
          "data": {
            "text/plain": [
              "True"
            ]
          },
          "metadata": {},
          "execution_count": 13
        }
      ]
    },
    {
      "cell_type": "code",
      "source": [
        "find_33([3,1,3])"
      ],
      "metadata": {
        "colab": {
          "base_uri": "https://localhost:8080/"
        },
        "id": "FSE7zbYmvqig",
        "outputId": "f86cde19-dded-44a2-b357-fc4b8957e15a"
      },
      "execution_count": null,
      "outputs": [
        {
          "output_type": "execute_result",
          "data": {
            "text/plain": [
              "False"
            ]
          },
          "metadata": {},
          "execution_count": 14
        }
      ]
    },
    {
      "cell_type": "markdown",
      "source": [
        "# Paper Doll Problem"
      ],
      "metadata": {
        "id": "NXPcxfqN0itw"
      }
    },
    {
      "cell_type": "code",
      "source": [
        "def paper_doll(text):\n",
        "    result = ''\n",
        "\n",
        "    for char in text:\n",
        "        result += char*3\n",
        "    return result"
      ],
      "metadata": {
        "id": "CRHlNyKnvqeh"
      },
      "execution_count": null,
      "outputs": []
    },
    {
      "cell_type": "code",
      "source": [
        "paper_doll('Missippi')"
      ],
      "metadata": {
        "colab": {
          "base_uri": "https://localhost:8080/",
          "height": 36
        },
        "id": "Y12-EF-fvqag",
        "outputId": "b94532f1-5bb9-48b0-c569-64b70d791f8c"
      },
      "execution_count": null,
      "outputs": [
        {
          "output_type": "execute_result",
          "data": {
            "text/plain": [
              "'MMMiiissssssiiippppppiii'"
            ],
            "application/vnd.google.colaboratory.intrinsic+json": {
              "type": "string"
            }
          },
          "metadata": {},
          "execution_count": 19
        }
      ]
    },
    {
      "cell_type": "code",
      "source": [
        "def black_jack(a,b,c):\n",
        "    if sum([a,b,c])<=21:\n",
        "        return sum([a,b,c])\n",
        "    elif 11 in [a,b,c] and sum([a,b,c]) <= 31:\n",
        "        return sum([a,b,c])-10\n",
        "    return 'BUST'\n"
      ],
      "metadata": {
        "id": "OEounG-jyXIH"
      },
      "execution_count": null,
      "outputs": []
    },
    {
      "cell_type": "code",
      "source": [
        "black_jack(5,6,7)"
      ],
      "metadata": {
        "colab": {
          "base_uri": "https://localhost:8080/"
        },
        "id": "C3Sp5f5dyXFd",
        "outputId": "cac8e7cb-d55c-4386-8656-4b417cab252b"
      },
      "execution_count": null,
      "outputs": [
        {
          "output_type": "execute_result",
          "data": {
            "text/plain": [
              "18"
            ]
          },
          "metadata": {},
          "execution_count": 22
        }
      ]
    },
    {
      "cell_type": "code",
      "source": [
        "black_jack(9,9,9)"
      ],
      "metadata": {
        "colab": {
          "base_uri": "https://localhost:8080/",
          "height": 36
        },
        "id": "V48KVdgjyXA4",
        "outputId": "09272ac8-9c4c-47f4-8ad6-96c3a4d099eb"
      },
      "execution_count": null,
      "outputs": [
        {
          "output_type": "execute_result",
          "data": {
            "text/plain": [
              "'BUST'"
            ],
            "application/vnd.google.colaboratory.intrinsic+json": {
              "type": "string"
            }
          },
          "metadata": {},
          "execution_count": 23
        }
      ]
    },
    {
      "cell_type": "code",
      "source": [
        "black_jack(9,9,11)"
      ],
      "metadata": {
        "colab": {
          "base_uri": "https://localhost:8080/"
        },
        "id": "veYsdOYCyW_L",
        "outputId": "e637228b-a967-4cdd-cad4-1e8064de75ef"
      },
      "execution_count": null,
      "outputs": [
        {
          "output_type": "execute_result",
          "data": {
            "text/plain": [
              "19"
            ]
          },
          "metadata": {},
          "execution_count": 24
        }
      ]
    },
    {
      "cell_type": "code",
      "source": [
        "def summer_69(arr):\n",
        "    total = 0\n",
        "    add = True\n",
        "\n",
        "    for num in arr:\n",
        "        while add:\n",
        "            if num !=6:\n",
        "                total +=num\n",
        "                break\n",
        "            else:\n",
        "                add=False\n",
        "        while not add:\n",
        "            if num !=9:\n",
        "                break\n",
        "            else:\n",
        "                add=True\n",
        "                break\n",
        "    return total\n",
        "    "
      ],
      "metadata": {
        "id": "C_7r8uflyW9e"
      },
      "execution_count": null,
      "outputs": []
    },
    {
      "cell_type": "code",
      "source": [
        "summer_69([1,3,5])"
      ],
      "metadata": {
        "colab": {
          "base_uri": "https://localhost:8080/"
        },
        "id": "X6hlwU26yW7d",
        "outputId": "a0a1208c-0df6-423f-bedb-55d0ac19b82a"
      },
      "execution_count": null,
      "outputs": [
        {
          "output_type": "execute_result",
          "data": {
            "text/plain": [
              "9"
            ]
          },
          "metadata": {},
          "execution_count": 2
        }
      ]
    },
    {
      "cell_type": "code",
      "source": [
        "summer_69([4,5,6,7,8,9])"
      ],
      "metadata": {
        "colab": {
          "base_uri": "https://localhost:8080/"
        },
        "id": "hOFu6XiIyW0L",
        "outputId": "099b79a0-31df-4034-b47f-162898f23f29"
      },
      "execution_count": null,
      "outputs": [
        {
          "output_type": "execute_result",
          "data": {
            "text/plain": [
              "9"
            ]
          },
          "metadata": {},
          "execution_count": 3
        }
      ]
    },
    {
      "cell_type": "code",
      "source": [
        "summer_69([2,1,6,9,11])"
      ],
      "metadata": {
        "colab": {
          "base_uri": "https://localhost:8080/"
        },
        "id": "gEErcGa2yWwO",
        "outputId": "453b71fc-384c-4f89-a738-620a26e9198a"
      },
      "execution_count": null,
      "outputs": [
        {
          "output_type": "execute_result",
          "data": {
            "text/plain": [
              "14"
            ]
          },
          "metadata": {},
          "execution_count": 4
        }
      ]
    },
    {
      "cell_type": "code",
      "source": [
        "x = 0\n",
        "\n",
        "while x<=10:\n",
        "    print(f'The answer for x is {x}')\n",
        "\n",
        "    x += 1"
      ],
      "metadata": {
        "colab": {
          "base_uri": "https://localhost:8080/"
        },
        "id": "j4M2lTs_AVBd",
        "outputId": "d38df6e3-84ea-485d-a2c5-a27d9edc0550"
      },
      "execution_count": null,
      "outputs": [
        {
          "output_type": "stream",
          "name": "stdout",
          "text": [
            "The answer for x is 0\n",
            "The answer for x is 1\n",
            "The answer for x is 2\n",
            "The answer for x is 3\n",
            "The answer for x is 4\n",
            "The answer for x is 5\n",
            "The answer for x is 6\n",
            "The answer for x is 7\n",
            "The answer for x is 8\n",
            "The answer for x is 9\n",
            "The answer for x is 10\n"
          ]
        }
      ]
    },
    {
      "cell_type": "code",
      "source": [
        "def spy_game(num):\n",
        "\n",
        "    code =[0,0,7,'x']\n",
        "    # [0,7,'x']\n",
        "    # [7,'x']\n",
        "    for nums in num:\n",
        "        if nums == code[0]:\n",
        "            code.pop(0)\n",
        "    return len(code)==1"
      ],
      "metadata": {
        "id": "08xHb95UAajC"
      },
      "execution_count": null,
      "outputs": []
    },
    {
      "cell_type": "code",
      "source": [
        "spy_game([1,2,2,4,0,0,7,5])"
      ],
      "metadata": {
        "colab": {
          "base_uri": "https://localhost:8080/"
        },
        "id": "LlAMIkr6Aae7",
        "outputId": "c6078650-7f21-4dd5-feeb-2fe16e25462e"
      },
      "execution_count": null,
      "outputs": [
        {
          "output_type": "execute_result",
          "data": {
            "text/plain": [
              "True"
            ]
          },
          "metadata": {},
          "execution_count": 2
        }
      ]
    },
    {
      "cell_type": "code",
      "source": [
        "spy_game([1,0,2,4,0,5,7])"
      ],
      "metadata": {
        "colab": {
          "base_uri": "https://localhost:8080/"
        },
        "id": "2NdIXA9OAab_",
        "outputId": "cb9c1d7b-3486-41ef-ad59-7543a9516ba6"
      },
      "execution_count": null,
      "outputs": [
        {
          "output_type": "execute_result",
          "data": {
            "text/plain": [
              "True"
            ]
          },
          "metadata": {},
          "execution_count": 3
        }
      ]
    },
    {
      "cell_type": "code",
      "source": [
        "spy_game([1,7,2,0,4,5,1])"
      ],
      "metadata": {
        "colab": {
          "base_uri": "https://localhost:8080/"
        },
        "id": "AI7nxeDcAaYu",
        "outputId": "21653de8-c927-4a85-a20e-8c9e3023aad6"
      },
      "execution_count": null,
      "outputs": [
        {
          "output_type": "execute_result",
          "data": {
            "text/plain": [
              "False"
            ]
          },
          "metadata": {},
          "execution_count": 4
        }
      ]
    },
    {
      "cell_type": "code",
      "source": [
        "def count_primes(num):\n",
        "\n",
        "    # check for 0 or 1 input\n",
        "\n",
        "    primes = [2]\n",
        "    x = 3\n",
        "    if num < 2:\n",
        "        # for the case of num = 0 or 1\n",
        "        return 0\n",
        "    while x <= num:\n",
        "        for y in range(3,x,2):\n",
        "            if x%y==0:\n",
        "                x +=2\n",
        "                break\n",
        "        else:\n",
        "            primes.append(x)\n",
        "            x +=2\n",
        "    print(primes)\n",
        "    return len(primes)"
      ],
      "metadata": {
        "id": "2K-qYOXgAaV3"
      },
      "execution_count": null,
      "outputs": []
    },
    {
      "cell_type": "code",
      "source": [
        "count_primes(100)"
      ],
      "metadata": {
        "id": "t5giEiRCAaSu",
        "colab": {
          "base_uri": "https://localhost:8080/"
        },
        "outputId": "6d43abfe-c254-45d0-8248-bcbdc8aeb458"
      },
      "execution_count": null,
      "outputs": [
        {
          "output_type": "stream",
          "name": "stdout",
          "text": [
            "[2, 3, 5, 7, 11, 13, 17, 19, 23, 29, 31, 37, 41, 43, 47, 53, 59, 61, 67, 71, 73, 79, 83, 89, 97]\n"
          ]
        },
        {
          "output_type": "execute_result",
          "data": {
            "text/plain": [
              "25"
            ]
          },
          "metadata": {},
          "execution_count": 5
        }
      ]
    },
    {
      "cell_type": "code",
      "source": [
        "count_primes(50)"
      ],
      "metadata": {
        "id": "MQ4xDkdrAaPi",
        "colab": {
          "base_uri": "https://localhost:8080/"
        },
        "outputId": "4e6d3c90-f682-4d31-f94a-1c024e532a6a"
      },
      "execution_count": null,
      "outputs": [
        {
          "output_type": "stream",
          "name": "stdout",
          "text": [
            "[2, 3, 5, 7, 11, 13, 17, 19, 23, 29, 31, 37, 41, 43, 47]\n"
          ]
        },
        {
          "output_type": "execute_result",
          "data": {
            "text/plain": [
              "15"
            ]
          },
          "metadata": {},
          "execution_count": 6
        }
      ]
    },
    {
      "cell_type": "markdown",
      "source": [
        "## Lambda, Filter,Map"
      ],
      "metadata": {
        "id": "O6ZrijttN5Xs"
      }
    },
    {
      "cell_type": "code",
      "source": [
        "def func(num):\n",
        "    return num**2\n",
        "    "
      ],
      "metadata": {
        "id": "4R_0-RuPAaHA"
      },
      "execution_count": null,
      "outputs": []
    },
    {
      "cell_type": "code",
      "source": [
        "li=[1,2,3,4,7]"
      ],
      "metadata": {
        "id": "-0kmXvmnAU3j"
      },
      "execution_count": null,
      "outputs": []
    },
    {
      "cell_type": "code",
      "source": [
        "list(map(lambda num:num**2,li))"
      ],
      "metadata": {
        "id": "lalwbAKeAUvn",
        "colab": {
          "base_uri": "https://localhost:8080/"
        },
        "outputId": "4bef6cc1-9f5a-44c9-9de1-9e191126fd3c"
      },
      "execution_count": null,
      "outputs": [
        {
          "output_type": "execute_result",
          "data": {
            "text/plain": [
              "[1, 4, 9, 16, 49]"
            ]
          },
          "metadata": {},
          "execution_count": 3
        }
      ]
    },
    {
      "cell_type": "code",
      "source": [
        "def func(num):\n",
        "    return num%2!=0\n"
      ],
      "metadata": {
        "id": "LKp3BzHbAUq4"
      },
      "execution_count": null,
      "outputs": []
    },
    {
      "cell_type": "code",
      "source": [
        "list(filter(lambda num: num%2==0,li))"
      ],
      "metadata": {
        "id": "GLSB0btrAUna",
        "colab": {
          "base_uri": "https://localhost:8080/"
        },
        "outputId": "6cd35321-661a-4019-99f9-329a7393c535"
      },
      "execution_count": null,
      "outputs": [
        {
          "output_type": "execute_result",
          "data": {
            "text/plain": [
              "[2, 4]"
            ]
          },
          "metadata": {},
          "execution_count": 5
        }
      ]
    },
    {
      "cell_type": "code",
      "source": [
        "# Global\n",
        "\n",
        "name ='This is a global string'\n",
        "def greet():\n",
        "    #Enclosing\n",
        "    #name = 'Jojo'\n",
        "    \n",
        "\n",
        "    def hello():\n",
        "        # Local\n",
        "        #name = 'l am a local'\n",
        "        print('hello '+ name)\n",
        "    hello()\n",
        "\n",
        "\n",
        "        \n",
        "\n",
        "   \n",
        "    \n"
      ],
      "metadata": {
        "id": "UX65XC1dAUkC"
      },
      "execution_count": null,
      "outputs": []
    },
    {
      "cell_type": "code",
      "source": [
        "greet()"
      ],
      "metadata": {
        "id": "i2QF0tSkAUgu",
        "colab": {
          "base_uri": "https://localhost:8080/"
        },
        "outputId": "25f0f645-99e8-4939-cc55-c443bbd42dbe"
      },
      "execution_count": null,
      "outputs": [
        {
          "output_type": "stream",
          "name": "stdout",
          "text": [
            "hello This is a global string\n"
          ]
        }
      ]
    },
    {
      "cell_type": "code",
      "source": [],
      "metadata": {
        "id": "VyXHvJW_AUcu"
      },
      "execution_count": null,
      "outputs": []
    },
    {
      "cell_type": "markdown",
      "source": [],
      "metadata": {
        "id": "cn0NRatWnL29"
      }
    },
    {
      "cell_type": "code",
      "source": [
        "print([1,2,3])"
      ],
      "metadata": {
        "id": "Be7Mg0mtAUYe",
        "colab": {
          "base_uri": "https://localhost:8080/"
        },
        "outputId": "94e6babd-4df7-47c9-933a-4f40b9d9302d"
      },
      "execution_count": null,
      "outputs": [
        {
          "output_type": "stream",
          "name": "stdout",
          "text": [
            "[1, 2, 3]\n"
          ]
        }
      ]
    },
    {
      "cell_type": "code",
      "source": [],
      "metadata": {
        "id": "3RfgKSIx6-tt"
      },
      "execution_count": null,
      "outputs": []
    },
    {
      "cell_type": "code",
      "source": [
        "print([1,2,3])\n",
        "print([1,2,3])\n",
        "print([1,2,3])"
      ],
      "metadata": {
        "colab": {
          "base_uri": "https://localhost:8080/"
        },
        "outputId": "638ee8af-8d59-4b3c-b475-43606a479b81",
        "id": "dhK84mPzntUp"
      },
      "execution_count": null,
      "outputs": [
        {
          "output_type": "stream",
          "name": "stdout",
          "text": [
            "[1, 2, 3]\n",
            "[1, 2, 3]\n",
            "[1, 2, 3]\n"
          ]
        }
      ]
    },
    {
      "cell_type": "code",
      "source": [
        "def display(row1,row2,row3):\n",
        "    print(row1)\n",
        "    print(row2)\n",
        "    print(row3)\n"
      ],
      "metadata": {
        "id": "RyOVtTNWnyxR"
      },
      "execution_count": null,
      "outputs": []
    },
    {
      "cell_type": "code",
      "source": [
        "example_row_1= ['','','']\n",
        "example_row_2 = ['','','']\n",
        "example_row_3 = ['','','']\n",
        "display(example_row_1,example_row_2,example_row_3)"
      ],
      "metadata": {
        "colab": {
          "base_uri": "https://localhost:8080/"
        },
        "outputId": "cf491f05-98da-4b1b-d4b1-82976e851eb1",
        "id": "LdA2xKASnuj9"
      },
      "execution_count": null,
      "outputs": [
        {
          "output_type": "stream",
          "name": "stdout",
          "text": [
            "['', '', '']\n",
            "['', '', '']\n",
            "['', '', '']\n"
          ]
        }
      ]
    },
    {
      "cell_type": "code",
      "source": [
        "example_row_2[1]='X'"
      ],
      "metadata": {
        "id": "mS6_VE_JrG4f"
      },
      "execution_count": null,
      "outputs": []
    },
    {
      "cell_type": "code",
      "source": [
        "display(example_row_1,example_row_2,example_row_3)"
      ],
      "metadata": {
        "colab": {
          "base_uri": "https://localhost:8080/"
        },
        "id": "EzBvTsfsrG1I",
        "outputId": "f46458c3-e2b0-4535-c1f9-aa8d06d007e4"
      },
      "execution_count": null,
      "outputs": [
        {
          "output_type": "stream",
          "name": "stdout",
          "text": [
            "['', '', '']\n",
            "['', 'X', '']\n",
            "['', '', '']\n"
          ]
        }
      ]
    },
    {
      "cell_type": "code",
      "source": [
        "input('Enter value :')"
      ],
      "metadata": {
        "colab": {
          "base_uri": "https://localhost:8080/",
          "height": 53
        },
        "id": "CVsI02mUrGyY",
        "outputId": "65d2ba41-be78-4164-c7f7-f3d077f48540"
      },
      "execution_count": null,
      "outputs": [
        {
          "name": "stdout",
          "output_type": "stream",
          "text": [
            "Enter value :5\n"
          ]
        },
        {
          "output_type": "execute_result",
          "data": {
            "text/plain": [
              "'5'"
            ],
            "application/vnd.google.colaboratory.intrinsic+json": {
              "type": "string"
            }
          },
          "metadata": {},
          "execution_count": 36
        }
      ]
    },
    {
      "cell_type": "code",
      "source": [],
      "metadata": {
        "id": "wy5dViT7rGvL"
      },
      "execution_count": null,
      "outputs": []
    },
    {
      "cell_type": "code",
      "source": [],
      "metadata": {
        "id": "4tpSHSEFrGsD"
      },
      "execution_count": null,
      "outputs": []
    },
    {
      "cell_type": "code",
      "source": [],
      "metadata": {
        "id": "LqhZyLPMrGnT"
      },
      "execution_count": null,
      "outputs": []
    },
    {
      "cell_type": "code",
      "source": [],
      "metadata": {
        "id": "9CbysugOrGkA"
      },
      "execution_count": null,
      "outputs": []
    }
  ]
}