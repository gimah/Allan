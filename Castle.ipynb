{
  "nbformat": 4,
  "nbformat_minor": 0,
  "metadata": {
    "colab": {
      "provenance": [],
      "toc_visible": true,
      "authorship_tag": "ABX9TyOzHWhY2tYys/ujJWMlSnjk",
      "include_colab_link": true
    },
    "kernelspec": {
      "name": "python3",
      "display_name": "Python 3"
    },
    "language_info": {
      "name": "python"
    }
  },
  "cells": [
    {
      "cell_type": "markdown",
      "metadata": {
        "id": "view-in-github",
        "colab_type": "text"
      },
      "source": [
        "<a href=\"https://colab.research.google.com/github/gimah/Allan/blob/master/Castle.ipynb\" target=\"_parent\"><img src=\"https://colab.research.google.com/assets/colab-badge.svg\" alt=\"Open In Colab\"/></a>"
      ]
    },
    {
      "cell_type": "markdown",
      "source": [
        "# Castle Game"
      ],
      "metadata": {
        "id": "na32R1ESwIXt"
      }
    },
    {
      "cell_type": "code",
      "execution_count": 2,
      "metadata": {
        "colab": {
          "base_uri": "https://localhost:8080/"
        },
        "id": "IKChx6TBwDWV",
        "outputId": "57a9614b-23b4-4d3a-84d6-51ad44bfebfb"
      },
      "outputs": [
        {
          "output_type": "stream",
          "name": "stdout",
          "text": [
            "\n",
            "\n",
            "                       _ _.-'`-._ _\n",
            "                           ;.'________'.;\n",
            "                _________n.[____________].n_________\n",
            "               |\"\"_\"\"_\"\"_\"\"||==||==||==||\"\"_\"\"_\"\"_\"\"]\n",
            "               |\"\"\"\"\"\"\"\"\"\"\"||..||..||..||\"\"\"\"\"\"\"\"\"\"\"|\n",
            "               |LI LI LI LI||LI||LI||LI||LI LI LI LI|\n",
            "               |.. .. .. ..||..||..||..||.. .. .. ..|\n",
            "               |LI LI LI LI||LI||LI||LI||LI LI LI LI|\n",
            "            ,,;;,;;;,;;;,;;;,;;;,;;;,;;;,;;,;;;,;;;,;;,,\n",
            "           ;;jgs;;;;;;;;;;;;;;;;;;;;;;;;;;;;;;;;;;;;;;;;;\n",
            "      \n",
            "      \n",
            "      \n",
            "Enter from the Entrance of the Castle, you can pass left or rightright\n",
            "The end of the room has come to a halt\n"
          ]
        }
      ],
      "source": [
        "print('''\n",
        "\n",
        "                       _ _.-'`-._ _\n",
        "                           ;.'________'.;\n",
        "                _________n.[____________].n_________\n",
        "               |\"\"_\"\"_\"\"_\"\"||==||==||==||\"\"_\"\"_\"\"_\"\"]\n",
        "               |\"\"\"\"\"\"\"\"\"\"\"||..||..||..||\"\"\"\"\"\"\"\"\"\"\"|\n",
        "               |LI LI LI LI||LI||LI||LI||LI LI LI LI|\n",
        "               |.. .. .. ..||..||..||..||.. .. .. ..|\n",
        "               |LI LI LI LI||LI||LI||LI||LI LI LI LI|\n",
        "            ,,;;,;;;,;;;,;;;,;;;,;;;,;;;,;;,;;;,;;;,;;,,\n",
        "           ;;jgs;;;;;;;;;;;;;;;;;;;;;;;;;;;;;;;;;;;;;;;;;\n",
        "\n",
        "      ''')\n",
        "\n",
        "# Let the Game begin\n",
        "Choice1 = input('Enter from the Entrance of the Castle, you can pass left or right').lower()\n",
        "\n",
        "if Choice1=='left':\n",
        "    Choice2= input('Enter into the royal hallroom with lot of asset to take along to the Kings chairs which is either having silver or gold medel').lower()\n",
        "    if Choice2=='silver':\n",
        "        Choice3=input('You come to the cross road to either move straight or curve or rectangular').lower()\n",
        "        if Choice3=='curve':\n",
        "            print('Never unending curve')\n",
        "        elif Choice3=='straight':\n",
        "            print('You back to the entrance')\n",
        "        else:\n",
        "            print('You found the treasure to give to the King')\n",
        "    else:\n",
        "        print('You can not go farther these are your wealth')\n",
        "else:\n",
        "    print('The end of the room has come to a halt')"
      ]
    },
    {
      "cell_type": "code",
      "source": [],
      "metadata": {
        "id": "-bfn2S4NwmKl"
      },
      "execution_count": null,
      "outputs": []
    },
    {
      "cell_type": "code",
      "source": [],
      "metadata": {
        "id": "pbt3mTD9wmHo"
      },
      "execution_count": null,
      "outputs": []
    },
    {
      "cell_type": "code",
      "source": [],
      "metadata": {
        "id": "6cVDJrEDwmE8"
      },
      "execution_count": null,
      "outputs": []
    },
    {
      "cell_type": "code",
      "source": [],
      "metadata": {
        "id": "vBkjlTBzwmCA"
      },
      "execution_count": null,
      "outputs": []
    },
    {
      "cell_type": "code",
      "source": [],
      "metadata": {
        "id": "lET7D0zswl-2"
      },
      "execution_count": null,
      "outputs": []
    },
    {
      "cell_type": "code",
      "source": [],
      "metadata": {
        "id": "0P8GagMKwl7i"
      },
      "execution_count": null,
      "outputs": []
    },
    {
      "cell_type": "code",
      "source": [],
      "metadata": {
        "id": "eZt0ua6Lwl3g"
      },
      "execution_count": null,
      "outputs": []
    }
  ]
}